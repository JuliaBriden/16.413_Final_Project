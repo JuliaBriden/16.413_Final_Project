{
 "cells": [
  {
   "cell_type": "markdown",
   "metadata": {},
   "source": [
    "# 16.413 Final Project: Convex Risk Bounded Continuous-Time Trajectory Planning for a Europa Lander\n",
    "\n",
    "Julia Briden (jbriden@mit.edu)\n",
    "Kota Kondo (kkondo@mit.edu)\n",
    "Lakshay Sharma (lakshays@mit.edu)\n",
    "Nick Rober (nrober@mit.edu)\n",
    "Youngjae Min (youngj0@mit.edu)"
   ]
  },
  {
   "cell_type": "code",
   "execution_count": 1,
   "metadata": {},
   "outputs": [],
   "source": [
    "import numpy as np\n",
    "import random\n",
    "import matplotlib.pyplot as plt\n",
    "import math\n",
    "from mpl_toolkits import mplot3d\n",
    "from sympy import *"
   ]
  },
  {
   "cell_type": "markdown",
   "metadata": {},
   "source": [
    "## 1. Problem Statement\n",
    "\n",
    "The year is 2048 and alien life has been detected under the ice of Europa! In the interest of getting to know our newly discovered neighbors, NASA has decided to dispatch a highly specialized fleet of vehicles to the Gallilean moon. The mission will consist of (i) an autonomous underwater vehicle (AUV) designed to slowly glide to Europa's sea floor while transmitting data via an optical fiber cable to a rover on the surface, (ii) a surface rover designed to ferry the underwater vehicle from a safe landing site to an appropriate insertion site (i.e. vapor plume outburst location), and (iii) an orbiter, capable of relaying signals from the rover and providing high-resolution imagery to map the surface.\n",
    "\n",
    "![alt text](environment_basic.jpg \"Europa Lander mission concept\")\n",
    "\n",
    "As part of NASA's Jet Propulsion Laboratory, our team has been tasked with creating the trajectory generation algorithm for the surface vehicle. The goal for the rover is to navigate from a safe landing site which is flat and free of obstacles to the AUV's insertion point, which has relatively thin ice and may be surrounded by uncertain hazards. We have access to global map data within the field of operation, allowing us to formulate the trajectory generation problem as an infinite horizon mixed-integer nonlinear programming problem. We will solve this optimization problem using scipy.minimize and the Bernstein polynomial library BEBOT. To provide additional autonomy capabilities and give the optimization algorithm a good chance of finding a feasible solution, we will initilize the optimizer using RRT* to form an initial guess of the optimal trajectory.\n",
    "\n",
    "### Formulation\n",
    "\n",
    "Generally, this problem can be stated as an optimal control problem in the form of\n",
    "\n",
    "***\n",
    "<font size=\"3\"><h1><center>$\\underset{x(t)\\in\\mathbb{R}^{n_x},\\;u(t)\\in\\mathbb{R}^{u_n}}{\\text{minimize}}\\quad E(x(0),\\;x(1))+\\int_{0}^{1}F(x(t),u(t))dt$ <div style=\"text-align: right\"> (1) </div><br> $\\begin{align} & \\text{subject to} \\quad \\quad \\\\  \\\\ &\\dot{x} = f(x(t),\\;u(t)),\\quad \\forall t\\in[0,1] \\\\ & e(x(0),\\;x(1)) = 0, \\\\ & h(x(t),\\;u(t)) \\leq 0,\\quad \\forall t\\in[0,1] \\end{align}$</center></h1></font>\n",
    "***\n",
    "\n",
    "However, this is a difficult problem to solve. We can simplify it by considering that our system can be modelled using the common unicycle model:\n",
    "\n",
    "***\n",
    "<font size=\"3\"><h1><center>$\\dot{x} = \\begin{bmatrix} \\dot{x}_1 \\\\ \\dot{x}_2 \\\\ \\dot{\\phi} \\end{bmatrix} = \\begin{bmatrix} V \\cos(\\phi) \\\\ V \\sin(\\phi) \\\\ \\omega \\end{bmatrix}$</center></h1></font>\n",
    "***\n",
    "\n",
    "which is differentially flat. In this case, that is helpful because it means we can determine the inputs $V$ and $\\omega$ directly from $x_1$ and $x_2$. Additionally, we can approximate $x(t)$ (the optimal trajectory) using a  Bernstein polynomial, which takes the form \n",
    "\n",
    "***\n",
    "<font size=\"3\"><h1><center>$x_N(t) = \\sum_{i=0}^N \\bar{x}_{i,N}b_{i,N}(t)$</center></h1></font>\n",
    "***\n",
    "\n",
    "where $\\bar{x}_N = [\\bar{x}_{0,N},\\; ...,\\; \\bar{x}_{N,N}] \\in \\mathbb{R}^{n_x \\times (N+1)}$, is a vector of control points for the Bernstein polynomial and \n",
    "\n",
    "***\n",
    "<font size=\"3\"><h1><center>$b_{i,N}(t) = \\begin{pmatrix}N \\\\ i\\end{pmatrix}t^i(1-t)^{N-i},\\quad \\begin{pmatrix}N \\\\ i\\end{pmatrix} = \\frac{N!}{i!(N-i)!}$</center></h1></font>\n",
    "***\n",
    "\n",
    "The use of Bernstein polynomials allows us to formulate the problem as a finite-dimensional optimization problem (choose N control points), rather than an infinite dimensional optimization problem. Additionally, Bernstein polynomials are fixed at the endpoints, (i.e. $x_N(t_0) = \\bar{x}_{0,N}$ and $x_N(t_f) = \\bar{x}_{N,N}$, allowing us to remove the equality constraint from (1). The fact that the model is differentially flat allows us to remove $u(t)$, and the convex hull property of Bernstein polynomials allows us to only evaluate the control points $\\{x_{0,N}, ..., x_{N,N}\\}$ for satisfaction of the inequality constraints. Thus, the simplified problem becomes\n",
    "\n",
    "***\n",
    "<font size=\"3\"><h1><center>$\\underset{\\bar{x}_N}{\\text{minimize}}\\quad E(\\bar{x}_{0,N},\\;\\bar{x}_{N,N})+\\int_{0}^{1}F(x_N(t))dt$ <div style=\"text-align: right\"> (2) </div><br> $\\begin{align} & \\text{subject to} \\quad & \\quad \\\\ & \\|\\dot{x}_N(t_i) - f(x_N(t_i)\\| \\leq 0, & \\forall i \\in \\{0, 1, ..., N\\} \\\\ & h(\\bar{x}_{i,N}) \\leq 0, & \\forall i \\in \\{0, 1, ..., N\\} \\end{align}$</center></h1></font>\n",
    "***\n",
    "\n",
    "Finally, to address the inequality constraints $h(\\bar{x}_{i,N})$, we list the necessary constraints on the system as\n",
    "\n",
    "- Collision avoidance constraints (addressed below)\n",
    "- Maximum and minimum speed constraints\n",
    "- Maximum and minimum angular rate constraints\n",
    "\n",
    "and plan to use total path length as the cost function to minimize the distance required by the rover to travel to the AUV insertion point.\n",
    "\n",
    "\n",
    "From a practical standpoint, the scipy function minimize() can be used to solve problem (2). However, it requires an initial guess of the optimal trajectory as a starting point from which to begin using gradient descent. This guess warrants some consideration as it can have a large influence on the output of the function: one initial guess may give a good answer, while another may give local minima or even fail to converge to a solution. One option to generate this initial guess is to linearly interpolate between the initial and final positions. However it is often beneficial to give an initial guess which satisfies the system's constraints, which may not be the case if an obstacle lies on the straightline path between the initial and final positions. Thus, we plan to use RRT* as a fast way to generate what is hopefully a good initial guess.\n",
    "\n",
    "Source: https://arxiv.org/pdf/1812.06132.pdf\n",
    "\n",
    "\n"
   ]
  },
  {
   "cell_type": "markdown",
   "metadata": {},
   "source": [
    "## 2. Risk Contours\n",
    "\n",
    "Risk contours are defined as the set of all points in uncertain environments with guaranteed bounded risk. We will use risk contours in finding optimal trajectories. \n",
    "\n",
    "For simplicity we incorporate only static risk contours into our problem, not dynamic contours, and replace probabilistic constraint with deterministic constraint in terms of x (use inner approximation of probabilisitic constraint to bound risk), which lead to rational polynomial representation."
   ]
  },
  {
   "cell_type": "markdown",
   "metadata": {},
   "source": [
    "### How to construct risk contours"
   ]
  },
  {
   "cell_type": "markdown",
   "metadata": {},
   "source": [
    "Define $\\chi \\in \\mathbb{R}^2$ as an uncertain environment where our ground robot explores and $\\chi_{obs_{i}}(\\omega_i) \\subset \\chi$, for $i = 1, ..., n_{o_{s}}$ as static uncertain obstacles, where $n_{o_{s}}$ is the number of static obstacles, $\\omega_i$ is a probablistic uncertain parameters. \n",
    "\n",
    "Then, we can represent $\\chi_{obs_{i}}(\\omega_i)$ in terms of polynomials in x $\\in \\chi$\n",
    "\n",
    "***\n",
    "$\\chi_{obs_{i}}(\\omega_i) \\equiv \\{x \\in \\chi | P_i(x, \\omega_i) \\geq 0\\}$ for i = 1, ..., $n_{o_{s}}$ (1)\n",
    "***\n",
    "\n",
    "where P_i : $\\mathbb{R}^{n_x + n_{\\omega}} \\to \\mathbb{R}$ denotes a given polynomial. Let $\\triangle \\in [0, 1]$ be a given acceptable risk level, and then, $C^{\\triangle}_{r}$, static risk contour whose risk level, with less than the given acceptable can be defined as\n",
    "\n",
    "***\n",
    "$C^{\\triangle}_{r} \\equiv \\{x \\in \\chi | Prob(x \\in \\chi_{obs}(\\omega)) \\leq \\triangle\\}$ (2)\n",
    "***\n",
    "\n",
    "By this definition, static risk contour is now defined with a deterministic constraint in terms of x. Furthermore, the static risk contour's inner approximation is given as\n",
    "\n",
    "***\n",
    "$\\hat{C}^{\\triangle}_{r} \\equiv \\{x  \\in \\chi | \\frac{\\mathbb{E}[P^2(x, \\omega)] - \\mathbb{E}[P(x, \\omega)]^2}{\\mathbb{E}[P^2(x, \\omega)]} \\leq \\triangle  or  \\mathbb{E}[P(x, \\omega)] \\leq 0 \\}$ (3)\n",
    "***\n",
    "\n",
    "Since $\\hat{C}^{\\triangle}_{r}$ is an approximation of inner space of $C^{\\triangle}_{r}$, any trajectory going through $\\hat{C}^{\\triangle}_{r}$ has a risk less or equal to the given $\\triangle$.\n",
    "\n",
    "*Convex Risk Bounded Continuous-Time Trajectory Planning in Uncertain Nonconvex Environments (https://arxiv.org/pdf/2106.05489.pdf)* gives a good expample to illustrate the use of this risk contour generation method."
   ]
  },
  {
   "cell_type": "markdown",
   "metadata": {},
   "source": [
    "### Function for generating random obstacles in the environment"
   ]
  },
  {
   "cell_type": "code",
   "execution_count": 2,
   "metadata": {},
   "outputs": [],
   "source": [
    "## Function definition\n",
    "#\n",
    "# input\n",
    "# cx1: x1 offset\n",
    "# cx2: x2 offset\n",
    "#\n",
    "# output\n",
    "#    g: polynomial that represents an obstacle, including probabilistic uncertain parameter, omega\n",
    "#\n",
    "\n",
    "def random_ob(cx1=0,cx2=0):\n",
    "    # randomly generate obstacles within the given environments\n",
    "    # return a list of polynomials generated according to the given shape, maximum size, and omega range\n",
    "    x1 = Symbol('x1')\n",
    "    x2 = Symbol('x2')\n",
    "    # radius of circle\n",
    "    w = Symbol('w')\n",
    "    \n",
    "    # circular obstacle\n",
    "    g = w**2-(x1-cx1)**2-(x2-cx2)**2\n",
    "    \n",
    "    return g"
   ]
  },
  {
   "cell_type": "markdown",
   "metadata": {},
   "source": [
    "### Function for static risk contours "
   ]
  },
  {
   "cell_type": "code",
   "execution_count": 3,
   "metadata": {},
   "outputs": [],
   "source": [
    "## Function definition\n",
    "#\n",
    "# input\n",
    "#    delta: acceptable risk level, [0,1]\n",
    "#    g: polynomial that represents an obstacle, including probabilistic uncertain parameter, omega  \n",
    "#    l: lower bound of uniform distribution for w\n",
    "#    u: upper bound of uniform distribution for w\n",
    "#\n",
    "# output\n",
    "#    C: the boundary of inner approximation of risk contour, which is denoted as a list of polynomials\n",
    "#\n",
    "\n",
    "def static_rc(g, delta, l, u):\n",
    "    # calculate C using equation (3)\n",
    "    # need to calculate expected values using the given polynomials\n",
    "    # since delta is given, we can find the boundary of C as a form of a polynomial\n",
    "    # may need another function to convert the given polynomial to another form. \n",
    "    x1 = Symbol('x1')\n",
    "    x2 = Symbol('x2')\n",
    "    w = Symbol('w')\n",
    "    \n",
    "    degree = max(degree_list(g))\n",
    "    \n",
    "    # moments for w~Uniform[l,u]\n",
    "    m_w = [1]\n",
    "    \n",
    "    for i in range(1,2*degree+1):\n",
    "        m_w.append((1/(u-l))*((u**(i+1)-l**(i+1))/(i+1)))\n",
    "                \n",
    "    # first and second order moments\n",
    "    Mg = []\n",
    "    for i in range(1,3):\n",
    "        Md = simplify(g**i)\n",
    "        for j in range(i,i*degree):\n",
    "            Md = Md.subs(w**j,m_w[j])\n",
    "        Mg.append(Md)\n",
    "    # risk contour\n",
    "    C_1 = abs((Mg[1]-(Mg[0])**2)/(Mg[1]))\n",
    "    C_2 = Mg[0]\n",
    "    \n",
    "    return [C_1,C_2]"
   ]
  },
  {
   "cell_type": "markdown",
   "metadata": {},
   "source": [
    "### Function for checking if a point is safe"
   ]
  },
  {
   "cell_type": "code",
   "execution_count": 4,
   "metadata": {},
   "outputs": [],
   "source": [
    "## Function definition\n",
    "#\n",
    "# input\n",
    "#    delta: acceptable risk level, [0,1]\n",
    "#    C: polynomial that represents equation 10 \n",
    "#    x: x coordinate of point to check\n",
    "#    y: y coordinate of point to check\n",
    "#\n",
    "# output\n",
    "#    boolean: True if the point is safe and False if the point is unsafe\n",
    "#\n",
    "\n",
    "def check_safe(delta,C,x,y):\n",
    "    # Evaluate equation 10 at a specified delta and x1,x2 coordinates to determine if a point is safe\n",
    "    x1 = Symbol('x1')\n",
    "    x2 = Symbol('x2')\n",
    "    \n",
    "    C_array = [C[0].subs([(x1, x), (x2, y)]),C[1].subs([(x1, x), (x2, y)])]\n",
    "    \n",
    "    if (C_array[0] <= delta and C_array[1] <= 0):\n",
    "        return True\n",
    "    else:\n",
    "        return False"
   ]
  },
  {
   "cell_type": "code",
   "execution_count": 5,
   "metadata": {},
   "outputs": [
    {
     "data": {
      "text/plain": [
       "False"
      ]
     },
     "execution_count": 5,
     "metadata": {},
     "output_type": "execute_result"
    }
   ],
   "source": [
    "# Example: check safe\n",
    "x1 = Symbol('x1')\n",
    "x2 = Symbol('x2')\n",
    "\n",
    "# obstacle equation\n",
    "g = random_ob(.5,.5)\n",
    "# risk contour for delta risk level and radius with uniform dist over [l,u]\n",
    "C = static_rc(g,.5,.3,.4)\n",
    "# check if region safe\n",
    "check_safe(.5,C,.5,.5)"
   ]
  },
  {
   "cell_type": "code",
   "execution_count": null,
   "metadata": {},
   "outputs": [],
   "source": [
    "# Risk Contour Example: safe region with offset\n",
    "x_1 = np.linspace(-1,1,100)\n",
    "x_2 = np.linspace(-1,1,100)\n",
    "x1 = Symbol('x1')\n",
    "x2 = Symbol('x2')\n",
    "\n",
    "# obstacle equation\n",
    "g = random_ob(.5,.5)\n",
    "# risk contour for delta risk level and radius with uniform dist over [l,u]\n",
    "C = static_rc(g,.5,.3,.4)\n",
    "\n",
    "fig, ax = plt.subplots()\n",
    "for x in x_1:\n",
    "    for y in x_2:\n",
    "        C_array = [C[0].subs([(x1, x), (x2, y)]),C[1].subs([(x1, x), (x2, y)])]\n",
    "        # equation 10\n",
    "        if (C_array[0] <= .5 and C_array[1] <= 0):\n",
    "            plt.scatter(x,y,color='b')\n",
    "ax.set_aspect('equal')"
   ]
  },
  {
   "cell_type": "code",
   "execution_count": 11,
   "metadata": {},
   "outputs": [],
   "source": [
    "def get_contour_radius(C, risk, center):\n",
    "    # Risk Contour Example: safe region with offset\n",
    "    xc = center[0]\n",
    "    yc = center[1]\n",
    "    x_1 = np.linspace(xc-2,xc+2,100)\n",
    "    x_2 = np.linspace(yc-2,yc+2,100)\n",
    "    x1 = Symbol('x1')\n",
    "    x2 = Symbol('x2')\n",
    "    \n",
    "#     xs = []\n",
    "#     ys = []\n",
    "#     for x in x_1:\n",
    "#         for y in x_2:\n",
    "#             C_array = [C[0].subs([(x1, x), (x2, y)]),C[1].subs([(x1, x), (x2, y)])]\n",
    "#             # equation 10\n",
    "#             if np.abs(C_array[1]) > 0.49 and np.abs(C_array[1]) < .505:\n",
    "#                 plt.scatter(x,y,color='b')\n",
    "#                 xs.append(x)\n",
    "#                 ys.append(y)\n",
    "#     xc = np.mean(xs)\n",
    "#     yc = np.mean(ys)\n",
    "    r_min = 100   # large number\n",
    "    for x in x_1:\n",
    "        for y in x_2:\n",
    "            C_array = [C[0].subs([(x1, x), (x2, y)]),C[1].subs([(x1, x), (x2, y)])]\n",
    "            # equation 10\n",
    "            if C_array[1] <= 0 and C_array[0] <= risk and np.sqrt((x-xc)**2+(y-yc)**2) < r_min:\n",
    "                r_min = np.sqrt((x-xc)**2+(y-yc)**2)\n",
    "#                 plt.scatter(x,y,color='b')\n",
    "    return r_min"
   ]
  },
  {
   "cell_type": "code",
   "execution_count": 7,
   "metadata": {},
   "outputs": [],
   "source": [
    "def get_obstacles(num_obs = 5, bounds=np.array([[-1, 10], [-1, 10]]), delta=0.9):\n",
    "    random.seed(4)\n",
    "    span = bounds[:,1]-bounds[:,0]\n",
    "    border = 0.2\n",
    "    maxu = .8\n",
    "    minu = .2\n",
    "    xcs = [random.uniform(bounds[0,0]+border*span[0], bounds[0,1]-border*span[0]) for i in range(num_obs)]\n",
    "    ycs = [random.uniform(bounds[1,0]+border*span[1], bounds[1,1]-border*span[1]) for i in range(num_obs)]\n",
    "    centers = np.vstack((xcs,ycs))\n",
    "    us = np.array([random.uniform(minu, maxu) for i in range(num_obs)])\n",
    "    ls = 0.8*us\n",
    "    gs = [random_ob(xcs[i],ycs[i]) for i in range(num_obs)]\n",
    "    # gs = [random_ob(4.,4.)]\n",
    "    C_list = [static_rc(gs[i],delta,ls[i],us[i]) for i in range(num_obs)]\n",
    "    # C_list = [static_rc(gs[0],delta,.3,.4)]\n",
    "    # pdb.set_trace()\n",
    "    radii = []\n",
    "    centers = []\n",
    "    for i, C in enumerate(C_list):\n",
    "        center = [xcs[i], ycs[i]]\n",
    "        # center = (4.,4.)\n",
    "        radius = get_contour_radius(C,delta,center)\n",
    "        radii.append(radius)\n",
    "        centers.append(center)\n",
    "        # plt.scatter(center[0],center[1])\n",
    "        # print(radius)\n",
    "    return np.array(centers), np.array(radii), C_list\n",
    "    \n",
    "# centers, radii = get_obstacles(8, np.array([[-1,10],[-1,10]]))\n",
    "# print(centers)\n",
    "# print(radii)"
   ]
  },
  {
   "cell_type": "markdown",
   "metadata": {},
   "source": [
    "### Map Setting & Visualization"
   ]
  },
  {
   "cell_type": "code",
   "execution_count": 13,
   "metadata": {},
   "outputs": [
    {
     "data": {
      "text/plain": [
       "(<Figure size 432x288 with 1 Axes>,\n",
       " <matplotlib.axes._subplots.AxesSubplot at 0x270bb529ec8>)"
      ]
     },
     "execution_count": 13,
     "metadata": {},
     "output_type": "execute_result"
    },
    {
     "data": {
      "image/png": "[encoded data removed]",
      "text/plain": [
       "<Figure size 432x288 with 1 Axes>"
      ]
     },
     "metadata": {
      "needs_background": "light"
     },
     "output_type": "display_data"
    }
   ],
   "source": [
    "num_obs = 5\n",
    "bounds = np.array([[-1, 10], [-1, 10]])\n",
    "delta = 0.9\n",
    "init = (0,0)\n",
    "goal = (9,9)\n",
    "centers, radii, C_list = get_obstacles(num_obs, bounds, delta) # TODO: make sure obstacles are not generated over init & goal\n",
    "\n",
    "def draw_map(cetners, radii):\n",
    "    fig, ax = plt.subplots()\n",
    "    for i, center in enumerate(centers):\n",
    "        obsArtist = plt.Circle(center, radius=radii[i], edgecolor='Black')\n",
    "        ax.add_artist(obsArtist)\n",
    "\n",
    "    ax.set_ylim([-1, 11])\n",
    "    ax.set_xlim([-1, 11])\n",
    "    ax.set_aspect('equal')\n",
    "    \n",
    "    return fig, ax\n",
    "\n",
    "draw_map(centers, radii)"
   ]
  },
  {
   "cell_type": "markdown",
   "metadata": {},
   "source": [
    "## 3. Continuous-Time Risk Bounded Trajectory Planning using Risk Contours\n",
    "\n",
    "\n",
    "From part 2, we have formulated conditions for a point $x$ in a trajectory to be safe with the maximum risk of $\\Delta$ to collide with uncertain static obstacles as below.\n",
    "\n",
    "***\n",
    "$\\frac{\\mathbb{E}[P^2(x, \\omega)] - \\mathbb{E}[P(x, \\omega)]^2}{\\mathbb{E}[P^2(x, \\omega)]} \\leq \\Delta  \\land  \\mathbb{E}[P(x, \\omega)] \\leq 0 \\$\n",
    "***\n",
    "\n",
    "With known momentums of $\\omega$, the conditions are polynomial in $x$, and then the feasible set for the trajectory optimization problem can be presented as\n",
    "\n",
    "***\n",
    "$\\mathcal{S}=\\{x: g_i(x) \\geq 0 \\;\\; i=1,\\dots,l\\}$\n",
    "***\n",
    "\n",
    "for some polynomials $g_i$. We are using RRT to find a trajectory in this feasible set to reach the goal state from the initial state. For RRT, we have to define two important functions STEER and ObstacleFree."
   ]
  },
  {
   "cell_type": "code",
   "execution_count": 20,
   "metadata": {},
   "outputs": [],
   "source": [
    "class Tree_Node:\n",
    "    def __init__(self, coord_x, coord_y, parent=None, children=[], cost=0):\n",
    "        self.coord_x = coord_x\n",
    "        self.coord_y = coord_y\n",
    "        self.parent = parent\n",
    "        self.children = [] + children\n",
    "        self.cost = 0\n",
    "    \n",
    "    def distance(self, target):\n",
    "        return np.sqrt((self.coord_x-target.coord_x)**2 + (self.coord_y-target.coord_y)**2)\n",
    "    \n",
    "    def Nearest(self, target):\n",
    "        dist = self.distance(target)\n",
    "        x_nearest = self\n",
    "        if self.children == []:\n",
    "            return dist, x_nearest\n",
    "        for child in self.children:\n",
    "            d_c, x_c = child.Nearest(target)\n",
    "            if d_c < dist:\n",
    "                dist = d_c\n",
    "                x_nearest = x_c\n",
    "        return dist, x_nearest\n",
    "    \n",
    "    def Arrive(self, goal):\n",
    "        return self.coord_x == goal[0] and self.coord_y == goal[1]\n",
    "    \n",
    "    def Near(self, target, radius):\n",
    "        X_near = []\n",
    "        if self.distance(target) < radius:\n",
    "            X_near.append(self)\n",
    "        for child in self.children:\n",
    "            X_near = X_near + child.Near(target, radius)\n",
    "        return X_near"
   ]
  },
  {
   "cell_type": "markdown",
   "metadata": {},
   "source": [
    "### Steer\n",
    "\n",
    "Given a sampled point and the current state of the RRT tree, steer() finds the node in the RRT tree nearest to the sampled point, and generates a path from that node towards the sampled point (not necessarily ending at the sampled point) in the form of\n",
    "\n",
    "***\n",
    "$x(t) = \\sum_{i=0}^d c_i t^i \\;\\; t \\in [t_1, t_2]$\n",
    "***\n",
    "\n",
    "This path is added as an edge and the endpoint of this path is added as a new node to the RRT tree.\n"
   ]
  },
  {
   "cell_type": "code",
   "execution_count": 15,
   "metadata": {},
   "outputs": [],
   "source": [
    "## Function definition\n",
    "#\n",
    "# input\n",
    "#    x_nearest: nearest point to x_rand in the RRT tree\n",
    "#    x_rand: sampled point towards which the RRT tree needs to grow\n",
    "#\n",
    "# output\n",
    "#    x_new: new point in the RRT tree\n",
    "#\n",
    "\n",
    "def Steer(x_nearest, x_rand, max_dist=0.4):\n",
    "    dist = x_nearest.distance(x_rand)\n",
    "    x_new = x_rand\n",
    "    if dist > max_dist:\n",
    "        x_new.coord_x = x_nearest.coord_x + (max_dist/dist)*(x_rand.coord_x-x_nearest.coord_x)\n",
    "        x_new.coord_y = x_nearest.coord_y + (max_dist/dist)*(x_rand.coord_y-x_nearest.coord_y)\n",
    "    return x_new"
   ]
  },
  {
   "cell_type": "markdown",
   "metadata": {},
   "source": [
    "### ObstacleFree\n",
    "\n",
    "To check the safety of the path defined above, one can use SOS-based continuous-time technique by checking whether each polynomial $g_i(x(t))$ can be represented with SOS polynomials as\n",
    "\n",
    "***\n",
    "$g_i(x(t)) = \\sigma_{0i}(t) + \\sigma_{1i}(t)(t-t_1) + \\sigma_{2i}(t)(t_2-t)$\n",
    "***\n",
    "\n",
    "where $\\sigma_{0i}(t), \\sigma_{1i}(t), \\sigma_{2i}(t)$ are SOS polynomials. This can be checked using Yalmip and Spotless packages, but for simplicity, we employ an apporximate collision-checking method.\n",
    "\n",
    "We sample points along the extended path, and check for each point whether it resides in $\\mathcal{S}$. By sampling densely enough, we can approximately check if the exented path is free from collision with obstacles."
   ]
  },
  {
   "cell_type": "code",
   "execution_count": 22,
   "metadata": {},
   "outputs": [],
   "source": [
    "## Function definition\n",
    "#\n",
    "# input\n",
    "#    x_nearest: the point closest to x_new\n",
    "#    x_new: randomly chosen point by RRT\n",
    "#    C_list: list of polynomials for each obstacle that represent equation 10 \n",
    "#    delta: acceptable risk level, [0,1]\n",
    "#\n",
    "# output\n",
    "#    boolean: True if the temporary trajectory that steer() function generates hits obstacles, otherwise False.\n",
    "#\n",
    "\n",
    "def ObstacleFree(x_nearest, x_new, C_list, delta, num_points=10): \n",
    "    # check if the newly generated line from x_nearest to x_new is violating the obstacle constraints.\n",
    "    # put extra buffer around the line and check collisions using the given obstacles by env\n",
    "    \n",
    "    for i in range(1, num_points + 1):\n",
    "        x = x_nearest.coord_x + (i/num_points)*(x_new.coord_x-x_nearest.coord_x)\n",
    "        y = x_nearest.coord_y + (i/num_points)*(x_new.coord_y-x_nearest.coord_y)\n",
    "        for C in C_list:\n",
    "            if not check_safe(delta, C, x, y):\n",
    "                return False\n",
    "    return True"
   ]
  },
  {
   "cell_type": "markdown",
   "metadata": {},
   "source": [
    "### RRT* for trajectory generation\n",
    "\n",
    "Then, using the functions defined above, we can employ RRT* to generate a trajectory with bounded risk $\\Delta$ to collide with uncertain static obstacles."
   ]
  },
  {
   "cell_type": "code",
   "execution_count": 23,
   "metadata": {},
   "outputs": [],
   "source": [
    "def SampleFree(i, goal, bounds):\n",
    "    # sample a free point x_rand\n",
    "    if i%10 == 0:\n",
    "        x_rand = Tree_Node(goal[0], goal[1]) # goal-biasing\n",
    "    else:\n",
    "        ran = np.random.random_sample((2,))\n",
    "        x_rand = Tree_Node((bounds[0][1]-bounds[0][0])*ran[0]+bounds[0][0], (bounds[1][1]-bounds[1][0])*ran[1]+bounds[1][0])\n",
    "    return x_rand"
   ]
  },
  {
   "cell_type": "code",
   "execution_count": 1,
   "metadata": {},
   "outputs": [
    {
     "ename": "NameError",
     "evalue": "name 'np' is not defined",
     "output_type": "error",
     "traceback": [
      "\u001b[1;31m---------------------------------------------------------------------------\u001b[0m",
      "\u001b[1;31mNameError\u001b[0m                                 Traceback (most recent call last)",
      "\u001b[1;32m<ipython-input-1-e6d73842ef96>\u001b[0m in \u001b[0;36m<module>\u001b[1;34m\u001b[0m\n\u001b[0;32m      1\u001b[0m \u001b[1;31m# Test for choosing hyperparameters in calculating radius for neighborhood search\u001b[0m\u001b[1;33m\u001b[0m\u001b[1;33m\u001b[0m\u001b[1;33m\u001b[0m\u001b[0m\n\u001b[0;32m      2\u001b[0m \u001b[0mlength\u001b[0m \u001b[1;33m=\u001b[0m \u001b[1;36m300\u001b[0m\u001b[1;33m\u001b[0m\u001b[1;33m\u001b[0m\u001b[0m\n\u001b[1;32m----> 3\u001b[1;33m \u001b[0mf\u001b[0m \u001b[1;33m=\u001b[0m \u001b[0mnp\u001b[0m\u001b[1;33m.\u001b[0m\u001b[0mzeros\u001b[0m\u001b[1;33m(\u001b[0m\u001b[0mlength\u001b[0m\u001b[1;33m)\u001b[0m\u001b[1;33m\u001b[0m\u001b[1;33m\u001b[0m\u001b[0m\n\u001b[0m\u001b[0;32m      4\u001b[0m \u001b[0mgamma\u001b[0m \u001b[1;33m=\u001b[0m \u001b[1;36m.8\u001b[0m\u001b[1;33m\u001b[0m\u001b[1;33m\u001b[0m\u001b[0m\n\u001b[0;32m      5\u001b[0m \u001b[0md\u001b[0m \u001b[1;33m=\u001b[0m \u001b[1;36m2\u001b[0m\u001b[1;33m\u001b[0m\u001b[1;33m\u001b[0m\u001b[0m\n",
      "\u001b[1;31mNameError\u001b[0m: name 'np' is not defined"
     ]
    }
   ],
   "source": [
    "# Test for choosing hyperparameters in calculating radius for neighborhood search\n",
    "length = 300\n",
    "f = np.zeros(length)\n",
    "gamma = .8\n",
    "d = 2\n",
    "for i in range(length):\n",
    "    f[i] = gamma*(log(i+1)/(i+1))**(1/d)\n",
    "plt.plot(f)"
   ]
  },
  {
   "cell_type": "code",
   "execution_count": 18,
   "metadata": {},
   "outputs": [],
   "source": [
    "## Function definition\n",
    "#\n",
    "# input\n",
    "#    init: initial sate of the robot\n",
    "#    goal: goal state of the robot\n",
    "#    C_list: list of polynomials for each obstacle that represent equation 10 \n",
    "#    delta: acceptable risk level, [0,1]\n",
    "#\n",
    "# output\n",
    "#    trajectory: list of successvie paths represented with parameters\n",
    "#\n",
    "\n",
    "def generate_trajectory(init, goal, C_list, delta):\n",
    "    root = Tree_Node(init[0], init[1])\n",
    "    N = 100000\n",
    "    tree_node_num = 1\n",
    "    # TODO: need to choose hyperparemters properly\n",
    "    gamma = 0.8\n",
    "    d = 2\n",
    "    eta = 0.5\n",
    "    trajectory = []\n",
    "    for i in range(N):\n",
    "        x_rand = SampleFree(i, goal, bounds)\n",
    "        \n",
    "        dist, x_nearest = root.Nearest(x_rand)\n",
    "        if dist <= 1e-5:\n",
    "            continue\n",
    "        \n",
    "        x_new = Steer(x_nearest, x_rand)\n",
    "        \n",
    "        if ObstacleFree(x_nearest, x_new, C_list, delta):\n",
    "            X_near = root.Near(x_new, min(gamma*(log(tree_node_num)/tree_node_num)**(1/d), eta))\n",
    "            \n",
    "            x_min = x_nearest\n",
    "            c_min = x_nearest.cost + x_nearest.distance(x_new)\n",
    "            \n",
    "            # Connect along a minimum-cost (minimum-distance) path\n",
    "            for x_near in X_near:\n",
    "                if ObstacleFree(x_near, x_new, C_list, delta) and x_near.cost + x_near.distance(x_new) < c_min:\n",
    "                    x_min = x_near\n",
    "                    c_min = x_near.cost + x_near.distance(x_new)\n",
    "            \n",
    "            x_new.parent = x_min\n",
    "            x_new.cost = c_min\n",
    "            x_min.children.append(x_new)\n",
    "            tree_node_num += 1\n",
    "            \n",
    "            # Rewire the tree\n",
    "            for x_near in X_near:\n",
    "                if ObstacleFree(x_new, x_near, C_list, delta) and x_new.cost + x_new.distance(x_near) < x_near.cost:\n",
    "                    x_near.parent.children.remove(x_near)\n",
    "                    x_near.parent = x_new\n",
    "                    x_near.cost = x_new.cost + x_new.distance(x_near)\n",
    "                    x_new.children.append(x_near)\n",
    "                \n",
    "            if x_new.Arrive(goal):\n",
    "                trajectory = [(x_new.coord_x, x_new.coord_y)]\n",
    "                node = x_new\n",
    "                while node.parent != None:\n",
    "                    parent = node.parent\n",
    "                    trajectory.insert(0, (parent.coord_x, parent.coord_y))\n",
    "                    node = parent\n",
    "                break\n",
    "    return trajectory, x_new.cost"
   ]
  },
  {
   "cell_type": "code",
   "execution_count": 24,
   "metadata": {},
   "outputs": [
    {
     "data": {
      "text/plain": [
       "[<matplotlib.lines.Line2D at 0x270bc5d2908>]"
      ]
     },
     "execution_count": 24,
     "metadata": {},
     "output_type": "execute_result"
    },
    {
     "data": {
      "image/png": "[encoded data removed]",
      "text/plain": [
       "<Figure size 432x288 with 1 Axes>"
      ]
     },
     "metadata": {
      "needs_background": "light"
     },
     "output_type": "display_data"
    }
   ],
   "source": [
    "trajectory, total_cost = generate_trajectory(init, goal, C_list, delta)\n",
    "\n",
    "fig, ax = draw_map(centers, radii)\n",
    "\n",
    "x_coords = []\n",
    "y_coords = []\n",
    "for waypoint in trajectory:\n",
    "    x_coords.append(waypoint[0])\n",
    "    y_coords.append(waypoint[1])\n",
    "plt.plot(x_coords, y_coords)"
   ]
  },
  {
   "cell_type": "markdown",
   "metadata": {},
   "source": [
    "## Functions for Optimization\n",
    "\n",
    "As mentioned previously, we will be using the scipy library function *minimize* to solve the problem given by Eq. 2 in Section 1. The use of this function requires the use of two support functions, namely a cost function *cost(xN)* which determines the cost of a given trajectory, and *nonlcon(xN, params)* which checks that the trajectory satisfies the constraints of the problem. The function stubs for these two functions, as well as the main optimization function are summarized below:"
   ]
  },
  {
   "cell_type": "code",
   "execution_count": null,
   "metadata": {},
   "outputs": [],
   "source": [
    "## Function definition\n",
    "#\n",
    "# input\n",
    "#    xN: set of control points being optimized\n",
    "#\n",
    "# output\n",
    "#    cost: the cost value of the control points given by the input\n",
    "#\n",
    "\n",
    "def cost(xN): \n",
    "    # Determine the cost of the given control points. We plan to use arc length, but may include terms such as\n",
    "    # the time to execute the trajectory or proximity to uncertain obstacles\n",
    "    return cost"
   ]
  },
  {
   "cell_type": "code",
   "execution_count": null,
   "metadata": {},
   "outputs": [],
   "source": [
    "## Function definition\n",
    "#\n",
    "# input\n",
    "#    xN: set of control points being optimized\n",
    "#    params: parameters of the problem. This will include start and end points, information on obstacles and the\n",
    "#            environment, min allowable distance to obstacles, max and min velocity, max and min angular velocity\n",
    "#\n",
    "# output\n",
    "#    constraints: a vector of the constrained variables associated with the problem. Must be >=0 to be satisfied\n",
    "#\n",
    "\n",
    "def nonlcon(xN, params): \n",
    "    # derive velocity, angular velocity, and distance to obstacles based on xN\n",
    "    # constraints = [params.max_vel-vel, vel-params.min_vel, params.max_ang_vel-ang_vel, ang_vel-params.min_ang_vel,\n",
    "    #                dist-min_dist]\n",
    "    return constraints"
   ]
  },
  {
   "cell_type": "code",
   "execution_count": null,
   "metadata": {},
   "outputs": [],
   "source": [
    "## Function definition\n",
    "#\n",
    "# input\n",
    "#    x0: initial guess of control points created by generate_trajectory\n",
    "#    params: parameters of the problem. This will include start and end points, information on obstacles and the\n",
    "#            environment, min allowable distance to obstacles, max and min velocity, max and min angular velocity\n",
    "#\n",
    "# output\n",
    "#    xN_opt: set of control points representing the Bernstein polynomial approximation to the optimal trajectory\n",
    "#\n",
    "\n",
    "def generate_optimal_trajectory(x0, params): \n",
    "    # Use minimize function to generate an approximation to the optimal trajectory:\n",
    "    # xN_opt = minimize(@(x)cost(x),x0,@(x)nonlcon(x,params))\n",
    "    return xN_opt"
   ]
  }
 ],
 "metadata": {
  "kernelspec": {
   "display_name": "Python 3",
   "language": "python",
   "name": "python3"
  },
  "language_info": {
   "codemirror_mode": {
    "name": "ipython",
    "version": 3
   },
   "file_extension": ".py",
   "mimetype": "text/x-python",
   "name": "python",
   "nbconvert_exporter": "python",
   "pygments_lexer": "ipython3",
   "version": "3.7.6"
  }
 },
 "nbformat": 4,
 "nbformat_minor": 2
}
