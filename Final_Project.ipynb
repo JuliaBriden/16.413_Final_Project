{
 "cells": [
  {
   "cell_type": "markdown",
   "metadata": {},
   "source": [
    "# 16.413 Final Project: Convex Risk Bounded Continuous-Time Trajectory Planning for a Europa Lander\n",
    "\n",
    "Julia Briden (jbriden@mit.edu)\n",
    "Kota Kondo (kkondo@mit.edu)\n",
    "Lakshay Sharma (lakshays@mit.edu)\n",
    "Nick Rober (nrober@mit.edu)\n",
    "Youngjae Min (youngj0@mit.edu)"
   ]
  },
  {
   "cell_type": "markdown",
   "metadata": {},
   "source": [
    "## 1. Problem Statement\n",
    "\n",
    "The year is 2048 and alien life has been detected under the ice of Europa! In the interest of getting to know our newly discovered neighbors, NASA has decided to dispatch a highly specialized fleet of vehicles to the Gallilean moon. The mission will consist of (i) an autonomous underwater vehicle (AUV) designed to slowly glide to Europa's sea floor while transmitting data via an optical fiber cable to a rover on the surface, (ii) a surface rover designed to ferry the underwater vehicle from a safe landing site to an appropriate insertion site (i.e. vapor plume outburst location), and (iii) an orbiter, capable of relaying signals from the rover and providing high-resolution imagery to map the surface.\n",
    "\n",
    "![alt text](environment_basic.jpg \"Europa Lander mission concept\")\n",
    "\n",
    "As part of NASA's Jet Propulsion Laboratory, our team has been tasked with creating the trajectory generation algorithm for the surface vehicle. The goal for the rover is to navigate from a safe landing site which is flat and free of obstacles to the AUV's insertion point, which has relatively thin ice and may be surrounded by uncertain hazards. We have access to global map data within the field of operation, allowing us to formulate the trajectory generation problem as an infinite horizon mixed-integer nonlinear programming problem. We will solve this optimization problem using scipy.minimize and the Bernstein polynomial library BEBOT. To provide additional autonomy capabilities and give the optimization algorithm a good chance of finding a feasible solution, we will initilize the optimizer using RRT* to form an initial guess of the optimal trajectory.\n",
    "\n",
    "### Formulation\n",
    "\n",
    "Generally, this problem can be stated as an optimal control problem in the form of\n",
    "\n",
    "***\n",
    "<font size=\"3\"><h1><center>$\\underset{x(t)\\in\\mathbb{R}^{n_x},\\;u(t)\\in\\mathbb{R}^{u_n}}{\\text{minimize}}\\quad E(x(0),\\;x(1))+\\int_{0}^{1}F(x(t),u(t))dt$ <div style=\"text-align: right\"> (1) </div><br> $\\begin{align} & \\text{subject to} \\quad \\quad \\\\  \\\\ &\\dot{x} = f(x(t),\\;u(t)),\\quad \\forall t\\in[0,1] \\\\ & e(x(0),\\;x(1)) = 0, \\\\ & h(x(t),\\;u(t)) \\leq 0,\\quad \\forall t\\in[0,1] \\end{align}$</center></h1></font>\n",
    "***\n",
    "\n",
    "which means that we are trying to find a control input to command the vehicle along a path that minimizes the cost function comprising of a terminal cost, $E(x(0),\\;x(1))$ and running cost $F(x(t),u(t))$ while satisfying the $(i)$ dynamic constraints on the system $f(x(t),\\;u(t))$, $(ii)$ equality constraints $e(x(0),\\;x(1))$ on the initial and final conditions, and $(iii)$ inequality constraints $h(x(t),\\;u(t))$ which must be satisfied over the entire path.\n",
    "\n",
    "However, as it is right now, this is a difficult problem to solve. We can simplify it by considering that our system can be modelled using the common unicycle model:\n",
    "\n",
    "![alt text](model.jpg \"Unicycle model\")\n",
    "\n",
    "***\n",
    "<font size=\"3\"><h1><center>$\\dot{x} = \\begin{bmatrix} \\dot{x}_1 \\\\ \\dot{x}_2 \\\\ \\dot{\\phi} \\end{bmatrix} = \\begin{bmatrix} V \\cos(\\phi) \\\\ V \\sin(\\phi) \\\\ \\omega \\end{bmatrix}$</center></h1></font>\n",
    "***\n",
    "\n",
    "which is *differentially flat*. In this case, differential flattness is a helpful property because it means we can determine the system inputs, i.e. velocity $V$ and angular rate $\\omega$, directly from the trajectory $x_p \\triangleq [x_1(t),\\;x_2(t)]^\\top$, allowing us to eliminate $u(t)$ from Eq. (1). Additionally, we can find an approximation for the optimal choice of $x_p(t)$ by casting it as a  Bernstein polynomial, which takes the form \n",
    "\n",
    "***\n",
    "<font size=\"3\"><h1><center>$x_N(t) = \\sum_{i=0}^N \\bar{x}_{i,N}b_{i,N}(t)$</center></h1></font>\n",
    "***\n",
    "\n",
    "where $\\bar{x}_N = [\\bar{x}_{0,N},\\; ...,\\; \\bar{x}_{N,N}] \\in \\mathbb{R}^{n_x \\times (N+1)}$, is a vector of control points for the Bernstein polynomial and $b_{i,N}(t)$ are the Bernstein coefficients given by\n",
    "\n",
    "***\n",
    "<font size=\"3\"><h1><center>$b_{i,N}(t) = \\begin{pmatrix}N \\\\ i\\end{pmatrix}t^i(1-t)^{N-i},\\quad \\begin{pmatrix}N \\\\ i\\end{pmatrix} = \\frac{N!}{i!(N-i)!}$</center></h1></font>\n",
    "***\n",
    "\n",
    "A pictorial representation of a 3rd order Bernstein polynomial is given below, illustrating the relationship between the control points and the polynomial. It also demonstrates the *endpoint property*, which specifies that the first and last control points lie on the polynomial (i.e. $x_N(t_0) = \\bar{x}_{0,N}$ and $x_N(t_f) = \\bar{x}_{N,N}$), as well as the *convex hull property*, which specifies that a Bernstein polynomial always lies within the convex hull of its control points.\n",
    "\n",
    "![alt text](poly.jpg \"Bernstein polynomial\")\n",
    "\n",
    "The use of Bernstein polynomials allows us to formulate the problem as a finite-dimensional optimization problem (choose N+1 control points for an Nth order polynomial), rather than an infinite dimensional optimization problem. Additionally, the endpoint property of Bernstein polynomials allows us to remove the equality constraint from (1) by setting i.e. $\\bar{x}_{0,N}$ and $\\bar{x}_{N,N}$ as constant and only optimizing the N-1 control points in the middle. Finally, the fact that the model is differentially flat allows us to remove $u(t)$, and the convex hull property allows us to only evaluate the control points $\\{x_{0,N}, ..., x_{N,N}\\}$ for satisfaction of the inequality constraints. Thus, the simplified problem becomes\n",
    "\n",
    "***\n",
    "<font size=\"3\"><h1><center>$\\underset{\\bar{x}_N}{\\text{minimize}}\\quad E(\\bar{x}_{0,N},\\;\\bar{x}_{N,N})+\\int_{0}^{1}F(x_N(t))dt$ <div style=\"text-align: right\"> (2) </div><br> $\\begin{align} & \\text{subject to} \\quad & \\quad \\\\ & \\|\\dot{x}_N(t_i) - f(x_N(t_i)\\| \\leq 0, & \\forall i \\in \\{0, 1, ..., N\\} \\\\ & h(\\bar{x}_{i,N}) \\leq 0, & \\forall i \\in \\{0, 1, ..., N\\} \\end{align}$</center></h1></font>\n",
    "***\n",
    "\n",
    "Finally, to address the inequality constraints $h(\\bar{x}_{i,N})$, we list the necessary constraints on the system as\n",
    "\n",
    "- Collision avoidance constraints (addressed below)\n",
    "- Maximum speed constraints\n",
    "- Maximum angular rate constraints\n",
    "\n",
    "and set the cost function as the length of the path to minimize the distance required by the rover to travel to the AUV insertion point.\n",
    "\n",
    "\n",
    "From a practical standpoint, the scipy function minimize() can be used to solve problem (2). However, it requires an initial guess of the optimal trajectory as a starting point from which to begin using gradient descent. This guess warrants some consideration as it can have a large influence on the output of the function: one initial guess may give a good answer, while another may give local minima or even fail to converge to a solution. One option to generate this initial guess is to linearly interpolate between the initial and final positions. However it is often beneficial to give an initial guess which satisfies the system's constraints, which may not be the case if an obstacle lies on the straightline path between the initial and final positions. Thus, we plan to use RRT* as a fast way to generate what is hopefully a good initial guess.\n",
    "\n",
    "Source/further reading: https://arxiv.org/pdf/1812.06132.pdf\n",
    "\n",
    "\n"
   ]
  },
  {
   "cell_type": "markdown",
   "metadata": {},
   "source": [
    "## 2. Risk Contours\n",
    "\n",
    "While global map data of the Europa surface provides evidence for the approximate location of obstacles that the rover must avoid, the map does not provide a high resolution image of every obstacle and the regions with evidence of thin ice are uncertain in determining an allowably safe region. To address the trajectory planning problem, with the presence of probabilistic obstacles, the method of risk contours is employed to obtain risk bounded trajectories.\n",
    "\n",
    "Risk contours are defined as the set of all points in uncertain environments with guaranteed bounded risk. Moments of the obstacles' probablity distributions are used to formulate these contours. Moments can be computed using Equation 3.\n",
    "\n",
    "<font size=\"3\"><h1><center>$E[\\Pi_{i=1}^{n} \\omega_{i}^{\\alpha_{i}}]$<div style=\"text-align: right\"> (3) </div><br></center></h1></font>\n",
    "\n",
    "Where n is the is the dimension of the domain of $\\alpha$, $\\alpha$ is the order of the random parameter of the obstacle, and $\\omega$ is the random parameter of the obstacle.\n",
    "\n",
    "For simplicity we incorporate only static risk contours into our problem, not dynamic contours, and replace probabilistic constraint with deterministic constraint, in terms of x (use inner approximation of probabilisitic constraint to bound risk), which leads to rational polynomial representation. All obstacles will be represented by circular risk contours with uncertain radaii, $\\omega$ (Equation 7)."
   ]
  },
  {
   "cell_type": "markdown",
   "metadata": {},
   "source": [
    "### How to construct risk contours"
   ]
  },
  {
   "cell_type": "markdown",
   "metadata": {},
   "source": [
    "Define $\\chi \\in \\mathbb{R}^2$ as an uncertain environment where our ground robot explores and $\\chi_{obs_{i}}(\\omega_i) \\subset \\chi$, for $i = 1, ..., n_{o_{s}}$ as static uncertain obstacles, where $n_{o_{s}}$ is the number of static obstacles, $\\omega_i$ is a probablistic uncertain parameters.\n",
    "\n",
    "Then, we can represent $\\chi_{obs_{i}}(\\omega_i)$ in terms of polynomials in x $\\in \\chi$\n",
    "\n",
    "<font size=\"3\"><h1><center>$\\chi_{obs_{i}}(\\omega_i) \\equiv \\{x \\in \\chi | P_i(x, \\omega_i) \\geq 0\\}$ for i = 1, ..., $n_{o_{s}}$<div style=\"text-align: right\"> (4) </div><br></center></h1></font>\n",
    "\n",
    "where P_i : $\\mathbb{R}^{n_x + n_{\\omega}} \\to \\mathbb{R}$ denotes a given polynomial.\n",
    "\n",
    "Let $\\triangle \\in [0, 1]$ be a given acceptable risk level and $C^{\\triangle}_{r}$ be a static risk contour whose risk level is less than or equal to the acceptable risk. The static risk contour can be defined as\n",
    "\n",
    "<font size=\"3\"><h1><center>$C^{\\triangle}_{r} \\equiv \\{x \\in \\chi | Prob(x \\in \\chi_{obs}(\\omega)) \\leq \\triangle\\}$<div style=\"text-align: right\"> (5) </div><br></center></h1></font>\n",
    "\n",
    "To compute the static risk contour, the probabilistic constraint ($Prob(x \\epsilon \\chi_{obs}(\\omega))$), must be replaced with a deterministic constraint, as a function of x. To do this, the moments from Equation 3 are computed for the uncertain obstacle parameter, $\\omega$, and these moments are substituted into the first and second order moments for the obstacle's polynomial representation. Equation 6 shows the criteria for a point, x, to be within an accetable risk level (the inner approximation of the static risk contour).\n",
    "\n",
    "<font size=\"3\"><h1><center>$\\hat{C}^{\\triangle}_{r} \\equiv \\{x \\in \\chi | \\frac{\\mathbb{E}[P^2(x, \\omega)] - \\mathbb{E}[P(x, \\omega)]^2}{\\mathbb{E}[P^2(x, \\omega)]} \\leq \\triangle , \\mathbb{E}[P(x, \\omega)] \\leq 0 \\}$<div style=\"text-align: right\"> (6) </div><br></center></h1></font>\n",
    "\n",
    "Since $\\hat{C}^{\\triangle}_{r}$ is an approximation of inner space of $C^{\\triangle}_{r}$, any trajectory going through $\\hat{C}^{\\triangle}_{r}$ has a risk less or equal to the given $\\triangle$.\n",
    "\n",
    "Convex Risk Bounded Continuous-Time Trajectory Planning in Uncertain Nonconvex Environments (https://arxiv.org/pdf/2106.05489.pdf) gives a good expample to illustrate the use of this risk contour generation method."
   ]
  },
  {
   "cell_type": "markdown",
   "metadata": {},
   "source": [
    "### Function outline for generating random obstacles in the environment"
   ]
  },
  {
   "cell_type": "markdown",
   "metadata": {},
   "source": [
    "The environment that the rover navigates is described as a 2D plane with circular obstacle bounds. Each obstacle is described by the polynomial in Equation 7. \n",
    "\n",
    "<font size=\"3\"><h1><center>$g = \\omega^2 - (x_{1} - c_{x_{1}})^2 - (x_{2} - c_{x_{2}})^2$<div style=\"text-align: right\"> (7) </div><br></center></h1></font>\n",
    "\n",
    "Where g is the obstacle's polynomial representation, $\\omega$ is the radius of the circle, $x_{1}$ and $x_{2}$ are variables that represent environment coordinates, and $c_{x_{1}}$ and $c_{x_{2}}$ are the coordinate offsets to transform the obstacle's position in the environment.\n",
    "\n",
    "The ranom_ob function is used to generate a sympy.polys data structure that describes the obstacle's polynomial representation, using offsets to the obstacle as inputs."
   ]
  },
  {
   "cell_type": "code",
   "execution_count": 1,
   "metadata": {},
   "outputs": [
    {
     "name": "stdout",
     "output_type": "stream",
     "text": [
      "[!] Warning: OpenGJK library not installed.\n"
     ]
    }
   ],
   "source": [
    "import numpy as np\n",
    "import random\n",
    "import matplotlib.pyplot as plt\n",
    "import math\n",
    "from mpl_toolkits import mplot3d\n",
    "from sympy import *\n",
    "import random\n",
    "\n",
    "from scipy.optimize import minimize, Bounds\n",
    "from polynomial.bernstein import Bernstein"
   ]
  },
  {
   "cell_type": "code",
   "execution_count": 2,
   "metadata": {},
   "outputs": [],
   "source": [
    "## Function definition\n",
    "#\n",
    "# input\n",
    "#    cx1: x1 offset\n",
    "#    cx2: x2 offset\n",
    "#\n",
    "# output\n",
    "#    g: polynomial that represents an obstacle, including probabilistic uncertain parameter, omega\n",
    "#\n",
    "\n",
    "def random_ob(cx1=0,cx2=0):\n",
    "    # randomly generate obstacles within the given environments\n",
    "    # return a list of polynomials generated according to the given shape, maximum size, and omega range\n",
    "    x1 = Symbol('x1')\n",
    "    x2 = Symbol('x2')\n",
    "    # radius of circle\n",
    "    w = Symbol('w')\n",
    "    \n",
    "    # circular obstacle\n",
    "    g = w**2-(x1-cx1)**2-(x2-cx2)**2\n",
    "    \n",
    "    return g"
   ]
  },
  {
   "cell_type": "markdown",
   "metadata": {},
   "source": [
    "### Function outline for static risk contours "
   ]
  },
  {
   "cell_type": "markdown",
   "metadata": {},
   "source": [
    "To construct a static risk contour for an obstacle, the static_risk contour function is used. The function takes inputs of the obstacle's polynomial representation and the upper and lower bound for an assumed uniform distribution of potential obstacle radius values. A static risk contour can be calculated for a given obstacle in the static_rc function, using the following steps:\n",
    "\n",
    "1. Determine the degree of the obstacle polynomial.\n",
    "2. Compute the moments for the omega (the obstacle's radius), using Equation 8.\n",
    "    \n",
    "\n",
    "<font size=\"3\"><h1><center>$\\frac{u^{\\alpha + 1} - l^{\\alpha + 1}}{(u-l)(\\alpha + 1)}$<div style=\"text-align: right\"> (8) </div><br></center></h1></font>\n",
    "\n",
    "\n",
    "Where [l,u] are the bounds of the uniform distribution that describe the radius of the obstacle and alpha is the order of the uniform distribution. These moments are computed for degrees between 1 and 2 times the max degree of the obstacle polynomial.\n",
    "\n",
    "3. The first and second order moments of the obstacle polynomial are taken. The radius value (omega) in the moments is relaced with the moments computed in step 2. The final moments represent the expected value of the obstacle polynomial (Mg[0]) and the expected balue of the obstacle polynomial squared (Mg[1]).\n",
    "    \n",
    "4. C1 and C2 are calculated according to Equation 6 and output as an array of sympy.polys (polynomials in terms of x1 and x2).\n",
    "    \n",
    "The output of static_rc can be used to compute the value of static contour set using the inner approximation (Equation 6). A region is determined to be safe if C_0 <= the amount of acceptable risk (delta) and C_1 <= 0."
   ]
  },
  {
   "cell_type": "code",
   "execution_count": 3,
   "metadata": {},
   "outputs": [],
   "source": [
    "## Function definition\n",
    "#\n",
    "# input\n",
    "#    g: polynomial that represents an obstacle, including probabilistic uncertain parameter, omega  \n",
    "#    l: lower bound of uniform distribution for w\n",
    "#    u: upper bound of uniform distribution for w\n",
    "#\n",
    "# output\n",
    "#    C: the boundary of inner approximation of risk contour, which is denoted as a list of polynomials\n",
    "#\n",
    "\n",
    "def static_rc(g, l, u):\n",
    "    # calculate C using equation (6)\n",
    "    # need to calculate expected values using the given polynomials\n",
    "    # since delta is given, we can find the boundary of C as a form of a polynomial\n",
    "    # may need another function to convert the given polynomial to another form. \n",
    "    x1 = Symbol('x1')\n",
    "    x2 = Symbol('x2')\n",
    "    w = Symbol('w')\n",
    "    \n",
    "    degree = max(degree_list(g))\n",
    "    \n",
    "    # moments for w~Uniform[l,u]\n",
    "    m_w = [1]\n",
    "    \n",
    "    for i in range(1,2*degree+1):\n",
    "        m_w.append((1/(u-l))*((u**(i+1)-l**(i+1))/(i+1)))\n",
    "                \n",
    "    # first and second order moments\n",
    "    Mg = []\n",
    "    for i in range(1,3):\n",
    "        Md = simplify(g**i)\n",
    "        for j in range(i,i*degree):\n",
    "            Md = Md.subs(w**j,m_w[j])\n",
    "        Mg.append(Md)\n",
    "    # risk contour\n",
    "    C_1 = abs((Mg[1]-(Mg[0])**2)/(Mg[1]))\n",
    "    C_2 = Mg[0]\n",
    "    \n",
    "    return [C_1,C_2]"
   ]
  },
  {
   "cell_type": "markdown",
   "metadata": {},
   "source": [
    "### Function for checking if a point is safe"
   ]
  },
  {
   "cell_type": "markdown",
   "metadata": {},
   "source": [
    "For a given acceptable risk level and point (x,y) to evaluate the polynomial, between 0 and 1, check_safe returns a boolean that returns True if the point is safe and False if the point is unsafe. The output is determined by using the C polynomial from Equation 6."
   ]
  },
  {
   "cell_type": "code",
   "execution_count": 4,
   "metadata": {},
   "outputs": [],
   "source": [
    "## Function definition\n",
    "#\n",
    "# input\n",
    "#    delta: acceptable risk level, [0,1]\n",
    "#    C: polynomial that represents equation 6\n",
    "#    x: x coordinate of point to check\n",
    "#    y: y coordinate of point to check\n",
    "#\n",
    "# output\n",
    "#    boolean: True if the point is safe and False if the point is unsafe\n",
    "#\n",
    "\n",
    "def check_safe(delta,C,x,y):\n",
    "    # Evaluate equation 6 at a specified delta and x1,x2 coordinates to determine if a point is safe\n",
    "    x1 = Symbol('x1')\n",
    "    x2 = Symbol('x2')\n",
    "    \n",
    "    C_array = [C[0].subs([(x1, x), (x2, y)]),C[1].subs([(x1, x), (x2, y)])]\n",
    "    \n",
    "    if (C_array[0] <= delta and C_array[1] <= 0):\n",
    "        return True\n",
    "    else:\n",
    "        return False"
   ]
  },
  {
   "cell_type": "markdown",
   "metadata": {},
   "source": [
    "### Examples"
   ]
  },
  {
   "cell_type": "code",
   "execution_count": 6,
   "metadata": {},
   "outputs": [
    {
     "data": {
      "text/plain": [
       "Text(0.5, 0, 'x1')"
      ]
     },
     "execution_count": 6,
     "metadata": {},
     "output_type": "execute_result"
    },
    {
     "data": {
      "image/png": "[encoded data removed]",
      "text/plain": [
       "<Figure size 432x288 with 1 Axes>"
      ]
     },
     "metadata": {
      "needs_background": "light"
     },
     "output_type": "display_data"
    }
   ],
   "source": [
    "# Example: Risk contour plot for C0\n",
    "x_1 = np.linspace(-.5,.5,100)\n",
    "x_2 = np.linspace(-.5,.5,100)\n",
    "x1 = Symbol('x1')\n",
    "x2 = Symbol('x2')\n",
    "\n",
    "fig = plt.figure()\n",
    "ax = plt.axes(projection='3d')\n",
    "\n",
    "# obstacle equation\n",
    "g = random_ob()\n",
    "# risk contour for delta risk level and radius with uniform dist over [l,u]\n",
    "C = static_rc(g,.3,.4)\n",
    "\n",
    "for x in x_1:\n",
    "    for y in x_2:\n",
    "        C_array = [C[0].subs([(x1, x), (x2, y)]),C[1].subs([(x1, x), (x2, y)])]\n",
    "        ax.scatter3D(x, y, float(C_array[0]))\n",
    "ax.set_zlim(0,1)\n",
    "ax.set_title('First Condition for Static Risk Contour')\n",
    "ax.set_zlabel('(E[P^2(x,w)]-E[P(x,w)]^2)/E[P^2(x,w)]')\n",
    "ax.set_xlabel('x2')\n",
    "ax.set_ylabel('x1')"
   ]
  },
  {
   "cell_type": "code",
   "execution_count": 12,
   "metadata": {},
   "outputs": [
    {
     "data": {
      "image/png": "[encoded data removed]",
      "text/plain": [
       "<Figure size 432x288 with 1 Axes>"
      ]
     },
     "metadata": {
      "needs_background": "light"
     },
     "output_type": "display_data"
    }
   ],
   "source": [
    "# Example: Risk contour plot for C1\n",
    "x_1 = np.linspace(-1,1,10)\n",
    "x_2 = np.linspace(-1,1,10)\n",
    "x1 = Symbol('x1')\n",
    "x2 = Symbol('x2')\n",
    "\n",
    "fig = plt.figure()\n",
    "ax = plt.axes(projection='3d')\n",
    "\n",
    "# obstacle equation\n",
    "g = random_ob()\n",
    "# risk contour for delta risk level and radius with uniform dist over [l,u]\n",
    "C = static_rc(g,.3,.4)\n",
    "\n",
    "for x in x_1:\n",
    "    for y in x_2:\n",
    "        C_array = [C[0].subs([(x1, x), (x2, y)]),C[1].subs([(x1, x), (x2, y)])]\n",
    "        ax.scatter3D(x, y, float(C_array[1]))\n",
    "        \n",
    "ax.set_title('Second Condition for Static Risk Contour')\n",
    "ax.set_zlabel('E[P(x,w)]')\n",
    "ax.set_xlabel('x2')\n",
    "ax.set_ylabel('x1')"
   ]
  },
  {
   "cell_type": "code",
   "execution_count": 9,
   "metadata": {},
   "outputs": [
    {
     "data": {
      "image/png": "[encoded data removed]",
      "text/plain": [
       "<Figure size 432x288 with 1 Axes>"
      ]
     },
     "metadata": {
      "needs_background": "light"
     },
     "output_type": "display_data"
    }
   ],
   "source": [
    "# Risk Contour Example: safe region with offset\n",
    "x_1 = np.linspace(-1,1,100)\n",
    "x_2 = np.linspace(-1,1,100)\n",
    "x1 = Symbol('x1')\n",
    "x2 = Symbol('x2')\n",
    "\n",
    "# obstacle equation\n",
    "g = random_ob(.5,.5)\n",
    "# risk contour for delta risk level and radius with uniform dist over [l,u]\n",
    "C = static_rc(g,.3,.4)\n",
    "\n",
    "fig, ax = plt.subplots()\n",
    "for x in x_1:\n",
    "    for y in x_2:\n",
    "        C_array = [C[0].subs([(x1, x), (x2, y)]),C[1].subs([(x1, x), (x2, y)])]\n",
    "        # equation 10\n",
    "        if (C_array[0] <= .5 and C_array[1] <= 0):\n",
    "            plt.scatter(x,y,color='b')\n",
    "ax.set_aspect('equal')\n",
    "\n",
    "plt.title('Example Safe Region for 0.5 Acceptable Risk')\n",
    "plt.xlabel('x1')\n",
    "plt.ylabel('x2')"
   ]
  },
  {
   "cell_type": "markdown",
   "metadata": {},
   "source": [
    "### Functions for creating safe region obstacles"
   ]
  },
  {
   "cell_type": "markdown",
   "metadata": {},
   "source": [
    "Given a risk contour polynomial for an obstacle, the radius of that contour at the acceptable risk level (risk) is determined using the get_contour_radius function. The function searches the region surrounding the obstacle to find where the first condition of Equation 6 is equivalent to the acceptable risk value. The radius for each point in the region is found using Equation 9.\n",
    "\n",
    "<font size=\"3\"><h1><center>$\\sqrt{(x-x_{c})^2+(y-y_{c})^2)}$<div style=\"text-align: right\"> (9) </div><br></center></h1></font>\n",
    "Where x and y are the coordinates for the points which satisfy the first risk contour condition in Equation 6 and $x_{c}$ and $y_{c}$ are the coordinates for the center point of the obstacle. The radius of the risk contour is determined by taking the mean of the recorded radii."
   ]
  },
  {
   "cell_type": "code",
   "execution_count": 19,
   "metadata": {},
   "outputs": [
    {
     "name": "stdout",
     "output_type": "stream",
     "text": [
      "0.3726779962499648\n"
     ]
    }
   ],
   "source": [
    "## Function definition\n",
    "#\n",
    "# input\n",
    "#    C: polynomial that represents equation 6 \n",
    "#    risk: acceptable risk for a given trajectory (contour risk delta)\n",
    "#    center: (x,y) tuple of (known) center of expected object location\n",
    "#\n",
    "# output\n",
    "#    float: estimated radius of given contour\n",
    "#\n",
    "\n",
    "def get_contour_radius(C, risk, center):\n",
    "    # Risk Contour Example: safe region with offset\n",
    "    xc = center[0]\n",
    "    yc = center[1]\n",
    "    x_1 = np.linspace(xc-1,xc+1,25)\n",
    "    x_2 = np.linspace(yc-1,yc+1,25)\n",
    "    x1 = Symbol('x1')\n",
    "    x2 = Symbol('x2')\n",
    "    r_min = float(np.inf)   # large number\n",
    "    for x in x_1:\n",
    "        for y in x_2:\n",
    "            C_array = [C[0].subs([(x1, x), (x2, y)]),C[1].subs([(x1, x), (x2, y)])]\n",
    "            # equation 6\n",
    "            if C_array[1] <= 0 and C_array[0] <= risk and np.sqrt((x-xc)**2+(y-yc)**2) < r_min:\n",
    "                r_min = np.sqrt((x-xc)**2+(y-yc)**2)\n",
    "#                 plt.scatter(x,y,color='b')\n",
    "    return r_min\n",
    "\n",
    "g = random_ob()\n",
    "# risk contour for delta risk level and radius with uniform dist over [l,u]\n",
    "C = static_rc(g,.3,.4)\n",
    "\n",
    "print(get_contour_radius(C,0.5,(0,0)))\n"
   ]
  },
  {
   "cell_type": "markdown",
   "metadata": {},
   "source": [
    "Random obstacles for the environment are generated using the get_obstacles function. The following steps are competed to create the entire set of obstacles:\n",
    "\n",
    "1. The number of obstacles in the environment and bounds for the environment are inputs to change the environment's generation process. random centers are first generated for the obstacles (centers). \n",
    "\n",
    "2. The random intervals of the uniform distributions over the obstacles' radii are computed (us and ls). \n",
    "\n",
    "3. Polynomials are generated for each obstacle (gs)\n",
    "\n",
    "4. Risk contour polynomials are generated for each obstacle (C_list)\n",
    "\n",
    "5. The radius and center for each risk contour are found and returned as two arrays by the function."
   ]
  },
  {
   "cell_type": "code",
   "execution_count": 20,
   "metadata": {},
   "outputs": [],
   "source": [
    "## Function definition\n",
    "#\n",
    "# input\n",
    "#    num_obs: number of obstacles in the environment\n",
    "#    risk: acceptable risk for a given trajectory (contour risk delta)\n",
    "#    bounds: geographical bounds of environment\n",
    "#\n",
    "# output\n",
    "#    centers: list of center locations of obstacles\n",
    "#    radii: list of radius of risk contour of each obstacle\n",
    "#\n",
    "def get_obstacles(num_obs = 5, risk=0.5, bounds=np.array([[-1, 10], [-1, 10]])):\n",
    "    random.seed(3)\n",
    "    delta=risk # define acceptable risk\n",
    "    span = bounds[:,1]-bounds[:,0] # define environment bounds\n",
    "    border = 0.2 # obstacles should be fully contained in environment (allows us to place initial and final points)\n",
    "    maxu = .5 # maximum obstacle upper bound\n",
    "    minu = .2 # minimum obstacle upper bound\n",
    "    \n",
    "    # generate centers of obstacles\n",
    "    xcs = [random.uniform(bounds[0,0]+border*span[0], bounds[0,1]-border*span[0]) for i in range(num_obs)]\n",
    "    ycs = [random.uniform(bounds[1,0]+border*span[1], bounds[1,1]-border*span[1]) for i in range(num_obs)]\n",
    "    centers = np.vstack((xcs,ycs))\n",
    "    \n",
    "    # generate upper and lower bound for obstacle diameters \n",
    "    us = np.array([random.uniform(minu, maxu) for i in range(num_obs)])\n",
    "    ls = 0.8*us\n",
    "    \n",
    "    # create obstacles\n",
    "    gs = [random_ob(xcs[i],ycs[i]) for i in range(num_obs)]\n",
    "    \n",
    "    # generate C equations for each obstacle\n",
    "    C_list = [static_rc(gs[i],ls[i],us[i]) for i in range(num_obs)]\n",
    "    radii = []\n",
    "    centers = []\n",
    "    \n",
    "    # find the radius of each risk contour\n",
    "    for i, C in enumerate(C_list):\n",
    "        center = [xcs[i], ycs[i]]\n",
    "        radius = get_contour_radius(C,delta,center)\n",
    "        radii.append(radius)\n",
    "        centers.append(center)\n",
    "    return np.array(centers), np.array(radii), C_list"
   ]
  },
  {
   "cell_type": "markdown",
   "metadata": {},
   "source": [
    "### Map Setting & Visualization"
   ]
  },
  {
   "cell_type": "code",
   "execution_count": 21,
   "metadata": {},
   "outputs": [
    {
     "data": {
      "text/plain": [
       "(<Figure size 432x288 with 1 Axes>,\n",
       " <matplotlib.axes._subplots.AxesSubplot at 0x7fd03a08bdd8>)"
      ]
     },
     "execution_count": 21,
     "metadata": {},
     "output_type": "execute_result"
    },
    {
     "data": {
      "image/png": "[encoded data removed]",
      "text/plain": [
       "<Figure size 432x288 with 1 Axes>"
      ]
     },
     "metadata": {
      "needs_background": "light"
     },
     "output_type": "display_data"
    }
   ],
   "source": [
    "num_obs = 5\n",
    "bounds = np.array([[-1, 10], [-1, 10]])\n",
    "delta = 0.9\n",
    "init = (0,0)\n",
    "goal = (9,9)\n",
    "centers, radii, C_list = get_obstacles(num_obs, delta, bounds) # TODO: make sure obstacles are not generated over init & goal\n",
    "\n",
    "def draw_map(cetners, radii):\n",
    "    fig, ax = plt.subplots()\n",
    "    for i, center in enumerate(centers):\n",
    "        obsArtist = plt.Circle(center, radius=radii[i], edgecolor='Black')\n",
    "        ax.add_artist(obsArtist)\n",
    "\n",
    "    ax.set_ylim([-1, 11])\n",
    "    ax.set_xlim([-1, 11])\n",
    "    ax.set_aspect('equal')\n",
    "    \n",
    "    return fig, ax\n",
    "\n",
    "draw_map(centers, radii)"
   ]
  },
  {
   "cell_type": "markdown",
   "metadata": {},
   "source": [
    "## 3. Generating an Initial Solution for Trajectory Optimization using RRT*\n",
    "\n",
    "In this section, we implement a sampling-based planning method RRT which is asymptotically optimal unlike RRT, and we employ it to generate an initial solution for our trajectory optimization problem. With this goal, we first define a tree structure to organize the sampled points with its member functions to utilize in the implementation of RRT."
   ]
  },
  {
   "cell_type": "code",
   "execution_count": 22,
   "metadata": {},
   "outputs": [],
   "source": [
    "class Tree_Node:\n",
    "    def __init__(self, coord_x, coord_y, parent=None, children=[], cost=0):\n",
    "        self.coord_x = coord_x\n",
    "        self.coord_y = coord_y\n",
    "        self.parent = parent\n",
    "        self.children = [] + children\n",
    "        self.cost = 0\n",
    "    \n",
    "    # calculate Euclidian distance to the target node\n",
    "    def distance(self, target):\n",
    "        return np.sqrt((self.coord_x-target.coord_x)**2 + (self.coord_y-target.coord_y)**2)\n",
    "    \n",
    "    # find the nearest node from the target node in the subtree of the current node\n",
    "    def Nearest(self, target):\n",
    "        dist = self.distance(target)\n",
    "        x_nearest = self\n",
    "        if self.children == []:\n",
    "            return dist, x_nearest\n",
    "        for child in self.children:\n",
    "            d_c, x_c = child.Nearest(target)\n",
    "            if d_c < dist:\n",
    "                dist = d_c\n",
    "                x_nearest = x_c\n",
    "        return dist, x_nearest\n",
    "    \n",
    "    # check whether the current node is arrived at the goal state\n",
    "    def Arrive(self, goal):\n",
    "        return self.coord_x == goal[0] and self.coord_y == goal[1]\n",
    "    \n",
    "    # find the neighborhood of the target node wihthin the radius in the subtree of the current node\n",
    "    def Near(self, target, radius):\n",
    "        X_near = []\n",
    "        if self.distance(target) < radius:\n",
    "            X_near.append(self)\n",
    "        for child in self.children:\n",
    "            X_near = X_near + child.Near(target, radius)\n",
    "        return X_near"
   ]
  },
  {
   "cell_type": "markdown",
   "metadata": {},
   "source": [
    "Besides the tree structure, RRT* (or RRT as well) requires two important functions, $Steer$ and $ObstacleFree$, that could be taylored to our problem. We first introduce the concept of a bit complex method introduced in the paper (https://arxiv.org/pdf/2106.05489.pdf) to enrich the context over what we have learned in the lecture. However, for simplicity, we implement more straightforward method in this notebook.\n",
    "\n",
    "By letting the $Steer$ function to expand the tree with polynomial path represented as $x(t) = \\sum_{i=0}^d c_i t^i \\;\\; t \\in [t_1, t_2]$, we can generate a smooth piece-wise polynomial trajectory which is more realistic for robots than a piece-wise linear one. To check collisions for this polynomial path, an SOS-based continuous-time technique could be utilized. From part 2, we have formulated conditions for a point $x$ in a trajectory to be safe with the maximum risk of $\\Delta$ to collide with uncertain static obstacles as $\\frac{\\mathbb{E}[P^2(x, \\omega)] - \\mathbb{E}[P(x, \\omega)]^2}{\\mathbb{E}[P^2(x, \\omega)]} \\leq \\Delta \\land \\mathbb{E}[P(x, \\omega)] \\leq 0 $. With known momentums of $\\omega$, the conditions are polynomial in $x$, and then the feasible set for the trajectory optimization problem can be presented as $\\mathcal{S}=\\{x: g_i(x) \\geq 0 \\;\\; i=1,\\dots,l\\}$ for some polynomials $g_i$. Then, the safety of $x(t)$ could be checked by checking whether each polynomial $g_i(x(t))$ can be represented with SOS polynomials as $g_i(x(t)) = \\sigma_{0i}(t) + \\sigma_{1i}(t)(t-t_1) + \\sigma_{2i}(t)(t_2-t)$ where $\\sigma_{0i}(t), \\sigma_{1i}(t), \\sigma_{2i}(t)$ are SOS polynomials. This verification process can be implemented using Yalmip and Spotless packages.\n",
    "\n",
    "In this notebook, for simplicity, we employ straightforawrd $Steer$ function that we have learned in the lecture and verify safety through an apporximate collision-checking method. Given a sampled point and the current state of the tree, $Steer$ finds the node in the tree nearest to the sampled point, and generates a linear path from that node towards the sampled point (not necessarily ending at the sampled point) with limited maximum length of the path. In $ObstacleFree$, we sample points along the linear path, and check for each point whether it resides in $\\mathcal{S}$. By sampling densely enough, we can approximately check if the exented path is free from collision with obstacles.\n"
   ]
  },
  {
   "cell_type": "code",
   "execution_count": 23,
   "metadata": {},
   "outputs": [],
   "source": [
    "## Function definition\n",
    "#\n",
    "# input\n",
    "#    x_nearest: nearest point to x_rand in the tree\n",
    "#    x_rand: sampled point towards which the tree needs to grow\n",
    "#    max_dist: maximum distance of the extended path\n",
    "#\n",
    "# output\n",
    "#    x_new: new point in the tree\n",
    "#\n",
    "\n",
    "def Steer(x_nearest, x_rand, max_dist=0.4):\n",
    "    dist = x_nearest.distance(x_rand)\n",
    "    x_new = x_rand\n",
    "    if dist > max_dist:\n",
    "        x_new.coord_x = x_nearest.coord_x + (max_dist/dist)*(x_rand.coord_x-x_nearest.coord_x)\n",
    "        x_new.coord_y = x_nearest.coord_y + (max_dist/dist)*(x_rand.coord_y-x_nearest.coord_y)\n",
    "    return x_new"
   ]
  },
  {
   "cell_type": "code",
   "execution_count": 24,
   "metadata": {},
   "outputs": [],
   "source": [
    "## Function definition\n",
    "#\n",
    "# input\n",
    "#    x_nearest: the point closest to x_new\n",
    "#    x_new: randomly chosen point by RRT\n",
    "#    C_list: list of polynomials for each obstacle that represent equation 10 \n",
    "#    delta: acceptable risk level, [0,1]\n",
    "#    num_points: number of points to sample along the path\n",
    "#\n",
    "# output\n",
    "#    boolean: True if the temporary trajectory that steer() function generates hits obstacles, otherwise False.\n",
    "#\n",
    "\n",
    "def ObstacleFree(x_nearest, x_new, C_list, delta, num_points=10):\n",
    "    for i in range(1, num_points + 1):\n",
    "        x = x_nearest.coord_x + (i/num_points)*(x_new.coord_x-x_nearest.coord_x)\n",
    "        y = x_nearest.coord_y + (i/num_points)*(x_new.coord_y-x_nearest.coord_y)\n",
    "        for C in C_list:\n",
    "            if not check_safe(delta, C, x, y):\n",
    "                return False\n",
    "    return True"
   ]
  },
  {
   "cell_type": "markdown",
   "metadata": {},
   "source": [
    "Additionally, RRT* (or RRT as well) needs a function to sample a random point to expand a path toward. We implement this function with goal-biasing to encourage goal-reaching paths."
   ]
  },
  {
   "cell_type": "code",
   "execution_count": 25,
   "metadata": {},
   "outputs": [],
   "source": [
    "# sample a random point x_rand with goal-biasing in the area defined with bounds\n",
    "def SampleFree(i, goal, bounds):\n",
    "    # goal-biasing\n",
    "    if i%20 == 0:\n",
    "        x_rand = Tree_Node(goal[0], goal[1]) \n",
    "    else:\n",
    "        ran = np.random.random_sample((2,))\n",
    "        x_rand = Tree_Node((bounds[0][1]-bounds[0][0])*ran[0]+bounds[0][0], (bounds[1][1]-bounds[1][0])*ran[1]+bounds[1][0])\n",
    "    return x_rand"
   ]
  },
  {
   "cell_type": "markdown",
   "metadata": {},
   "source": [
    "Then, using the functions defined above, we can employ RRT* to generate a trajectory with bounded risk $\\Delta$ to collide with uncertain static obstacles."
   ]
  },
  {
   "cell_type": "code",
   "execution_count": 27,
   "metadata": {},
   "outputs": [],
   "source": [
    "## Function definition\n",
    "#\n",
    "# input\n",
    "#    init: initial sate of the robot\n",
    "#    goal: goal state of the robot\n",
    "#    C_list: list of polynomials for each obstacle that represent equation 10 \n",
    "#    delta: acceptable risk level, [0,1]\n",
    "#\n",
    "# output\n",
    "#    trajectory: list of successvie paths represented with parameters\n",
    "#    cost: cost (distance) of the generated trajectory\n",
    "#\n",
    "\n",
    "def generate_trajectory(init, goal, C_list, delta):\n",
    "    root = Tree_Node(init[0], init[1])\n",
    "    N = 100000\n",
    "    tree_node_num = 1\n",
    "    gamma = 0.8\n",
    "    d = 2\n",
    "    eta = 0.5\n",
    "    trajectory = []\n",
    "    for i in range(N):\n",
    "        x_rand = SampleFree(i, goal, bounds)\n",
    "        \n",
    "        dist, x_nearest = root.Nearest(x_rand)\n",
    "        if dist <= 1e-5:\n",
    "            continue\n",
    "        \n",
    "        x_new = Steer(x_nearest, x_rand)\n",
    "        \n",
    "        if ObstacleFree(x_nearest, x_new, C_list, delta):\n",
    "            X_near = root.Near(x_new, min(gamma*(log(tree_node_num)/tree_node_num)**(1/d), eta))\n",
    "            \n",
    "            x_min = x_nearest\n",
    "            c_min = x_nearest.cost + x_nearest.distance(x_new)\n",
    "            \n",
    "            # Connect along a minimum-cost (minimum-distance) path\n",
    "            for x_near in X_near:\n",
    "                if ObstacleFree(x_near, x_new, C_list, delta) and x_near.cost + x_near.distance(x_new) < c_min:\n",
    "                    x_min = x_near\n",
    "                    c_min = x_near.cost + x_near.distance(x_new)\n",
    "            \n",
    "            x_new.parent = x_min\n",
    "            x_new.cost = c_min\n",
    "            x_min.children.append(x_new)\n",
    "            tree_node_num += 1\n",
    "            \n",
    "            # Rewire the tree\n",
    "            for x_near in X_near:\n",
    "                if ObstacleFree(x_new, x_near, C_list, delta) and x_new.cost + x_new.distance(x_near) < x_near.cost:\n",
    "                    x_near.parent.children.remove(x_near)\n",
    "                    x_near.parent = x_new\n",
    "                    x_near.cost = x_new.cost + x_new.distance(x_near)\n",
    "                    x_new.children.append(x_near)\n",
    "                \n",
    "            if x_new.Arrive(goal):\n",
    "                trajectory = [(x_new.coord_x, x_new.coord_y)]\n",
    "                node = x_new\n",
    "                while node.parent != None:\n",
    "                    parent = node.parent\n",
    "                    trajectory.insert(0, (parent.coord_x, parent.coord_y))\n",
    "                    node = parent\n",
    "                break\n",
    "    return trajectory, x_new.cost"
   ]
  },
  {
   "cell_type": "markdown",
   "metadata": {},
   "source": [
    "For RRT*, there is a trade-off between the quality of the generated path and the computation time. We can control it by setting a range to search neighborhood differently since larger range induces more extensive correction of the tree structure when a new node is added. The range is determined by calculating $\\min\\{\\gamma (\\frac{\\log(|V|)}{|V|})^{1/d}, \\eta\\}$ where $|V|$ is the number of nodes in the tree. In the first term, $d$ characterizes how the range decays as the tree grows and $\\gamma$ changes overall scale. The below cell is useful to test and determine the constants."
   ]
  },
  {
   "cell_type": "code",
   "execution_count": 7,
   "metadata": {},
   "outputs": [
    {
     "data": {
      "text/plain": [
       "Text(0, 0.5, 'Range')"
      ]
     },
     "execution_count": 7,
     "metadata": {},
     "output_type": "execute_result"
    },
    {
     "data": {
      "image/png": "[encoded data removed]",
      "text/plain": [
       "<Figure size 432x288 with 1 Axes>"
      ]
     },
     "metadata": {
      "needs_background": "light"
     },
     "output_type": "display_data"
    }
   ],
   "source": [
    "# Test for choosing hyperparameters in calculating radius for neighborhood search\n",
    "length = 300\n",
    "f = np.zeros(length)\n",
    "gamma = .8\n",
    "d = 2\n",
    "for i in range(length):\n",
    "    f[i] = gamma*(log(i+1)/(i+1))**(1/d)\n",
    "plt.plot(f)\n",
    "plt.xlabel(\"# Nodes\")\n",
    "plt.ylabel(\"Range\")\n",
    "plt.title('Testing RRT* Hyperparameters')"
   ]
  },
  {
   "cell_type": "code",
   "execution_count": 41,
   "metadata": {},
   "outputs": [
    {
     "data": {
      "text/plain": [
       "[<matplotlib.lines.Line2D at 0x1c919cee808>]"
      ]
     },
     "execution_count": 41,
     "metadata": {},
     "output_type": "execute_result"
    },
    {
     "data": {
      "image/png": "[encoded data removed]",
      "text/plain": [
       "<Figure size 432x288 with 1 Axes>"
      ]
     },
     "metadata": {
      "needs_background": "light"
     },
     "output_type": "display_data"
    }
   ],
   "source": [
    "# Generate initial solution using RRT*\n",
    "# CAUTION!! It may take ~30 minutes to execute the code\n",
    "\n",
    "trajectory, total_cost = generate_trajectory(init, goal, C_list, delta)\n",
    "\n",
    "fig, ax = draw_map(centers, radii)\n",
    "\n",
    "x_coords = []\n",
    "y_coords = []\n",
    "for waypoint in trajectory:\n",
    "    x_coords.append(waypoint[0])\n",
    "    y_coords.append(waypoint[1])\n",
    "plt.plot(x_coords, y_coords)\n",
    "plt.title('RRT* Path Generation')\n",
    "plt.xlabel('x1')\n",
    "plt.ylabel('x2')"
   ]
  },
  {
   "cell_type": "markdown",
   "metadata": {},
   "source": [
    "## Functions for Optimization\n",
    "\n",
    "As mentioned previously, we will be using the scipy library function *minimize* to solve the problem given by Eq. 2 in Section 1. The use of this function requires the use of two support functions, namely a cost function *cost(xN)* which determines the cost of a given trajectory, and *nonlcon(xN, params)* which checks that the trajectory satisfies the constraints of the problem. The function stubs for these two functions, as well as the main optimization function are summarized below:"
   ]
  },
  {
   "cell_type": "code",
   "execution_count": 28,
   "metadata": {},
   "outputs": [],
   "source": [
    "# Parameters for the current optimization problem.\n",
    "class Parameters:\n",
    "    def __init__(self, num_obstacles=8, env_bounds=np.array([[-1,10],[-1,10]])):\n",
    "        self.deg = 7    # Degree of Bernstein polynomials being used\n",
    "        self.tf = 20.0  # Final time estimate (will be )\n",
    "        self.dsafe = 0.5  # Minimum safe distance between vehicle and obstacles\n",
    "        self.vmax = 0.1  # Maximum speed\n",
    "        self.wmax = 2*3*np.pi/2 # Maximum angular rate\n",
    "        self.riskmax = 0.1 # Maximum allowable risk\n",
    "        self.degree_elevation = 5\n",
    "\n",
    "        self.pos0 = np.array([0,0],dtype=float) # Initial position\n",
    "        self.posf = np.array([10,10],dtype=float) # Final points\n",
    "        \n",
    "        centers, radii, C_list = get_obstacles(num_obstacles, self.riskmax, env_bounds)\n",
    "        self.obstacles = centers # obstacle positions\n",
    "        self.safe_dists = radii # risk contour radius for each obstacle\n",
    "        \n",
    "        # RRT Params\n",
    "\n"
   ]
  },
  {
   "cell_type": "code",
   "execution_count": 29,
   "metadata": {},
   "outputs": [],
   "source": [
    "## Function definition\n",
    "#\n",
    "# input\n",
    "#    vector: vectorized set of control points being optimized + tf for current trajectory\n",
    "#\n",
    "# output\n",
    "#    xN: matrix of control points for Bernstein polynomial\n",
    "#    tf: time to execute the trajectory given by the bernstein polynomial described by xN\n",
    "#\n",
    "def reform(vector,params):\n",
    "    N = int((len(vector)-1)/2)\n",
    "    pos0 = params.pos0\n",
    "    posf = params.posf\n",
    "    x = np.concatenate(([pos0[0]], vector[0:N], [posf[0]]))\n",
    "    y = np.concatenate(([pos0[1]], vector[N:-1], [posf[1]]))\n",
    "    # pdb.set_trace()\n",
    "    xN = np.vstack((x, y))\n",
    "    tf = vector[-1]\n",
    "    # pdb.set_trace()\n",
    "    return xN, tf"
   ]
  },
  {
   "cell_type": "code",
   "execution_count": 30,
   "metadata": {},
   "outputs": [],
   "source": [
    "## Function definition\n",
    "#\n",
    "# input\n",
    "#    opt_vec: vectorized set of control points being optimized + tf for current trajectory\n",
    "#    params: parameters of the problem. This will include start and end points, information on obstacles and the\n",
    "#            environment, min allowable distance to obstacles, max velocity, max angular velocity\n",
    "#\n",
    "# output\n",
    "#    cost: the cost value of the control points given by the input\n",
    "#\n",
    "\n",
    "def cost(opt_vec,params): \n",
    "    xN, tf = reform(opt_vec,params)\n",
    "    dist_sum = 0.0\n",
    "    num_points = xN.shape[1]\n",
    "    \n",
    "    \n",
    "    for i in range(num_points-1):\n",
    "        dist = np.sqrt((xN[0][i]-xN[0][i+1])**2+(xN[1][i]-xN[1][i+1])**2)\n",
    "        dist_sum += dist\n",
    "    return dist_sum"
   ]
  },
  {
   "cell_type": "code",
   "execution_count": 31,
   "metadata": {},
   "outputs": [],
   "source": [
    "## Function definition\n",
    "#\n",
    "# input\n",
    "#    opt_vec: vectorized set of control points being optimized + tf for current trajectory\n",
    "#    params: parameters of the problem. This will include start and end points, information on obstacles and the\n",
    "#            environment, min allowable distance to obstacles, max velocity, max angular velocity\n",
    "#\n",
    "# output\n",
    "#    constraints: a vector of the constrained variables associated with the problem. Must be >=0 to be satisfied\n",
    "#\n",
    "\n",
    "def nonlcon(opt_vec, params): \n",
    "    # reform the optimization vector into an easy form to work with and unload problem parameters\n",
    "    xN, tf = reform(opt_vec, params)\n",
    "    degree_elevation = params.degree_elevation\n",
    "    obstacles = params.obstacles\n",
    "    safe_dists = params.safe_dists\n",
    "\n",
    "    \n",
    "    \n",
    "    # generate bernstein polynomials from matrix of control points\n",
    "    bp = Bernstein(xN, tf=tf)\n",
    "    \n",
    "    # find speed control points and use degree elevation to reduce conservativism\n",
    "    speedN = bp.diff().normSquare().elev(degree_elevation).cpts.flatten() # Bernstein polynomial representing speed\n",
    "\n",
    "    bpdot = bp.diff()\n",
    "    bpddot = bpdot.diff()\n",
    "\n",
    "    xdot = bpdot.x\n",
    "    ydot = bpdot.y\n",
    "    xddot = bpddot.x\n",
    "    yddot = bpddot.y\n",
    "\n",
    "    num = yddot*xdot - xddot*ydot\n",
    "    den = xdot*xdot + ydot*ydot\n",
    "    \n",
    "    # find angular rate control points and use degree elevation to reduce conservativism\n",
    "    wN = num.elev(degree_elevation).cpts / den.elev(degree_elevation).cpts\n",
    "    wN = wN.flatten() # Rational bernstein polynomial representing angular rate\n",
    "    \n",
    "    # Obstacles:\n",
    "    dist_bps = []\n",
    "    dist_constraint = []\n",
    "    for i, obs in enumerate(obstacles):\n",
    "        obsN = np.ones((2, params.deg+1), dtype=float)\n",
    "        obsN[0] *= obs[0]\n",
    "        obsN[1] *= obs[1]\n",
    "        # describe obstacles as constant bernstein polynomials\n",
    "        obsbp = Bernstein(obsN,tf=tf)\n",
    "        distbp = bp-obsbp\n",
    "        dist_constraint.append(distbp.normSquare().elev(degree_elevation).cpts-safe_dists[i]**2) # control points \n",
    "                                                                                                 # representing dist-\n",
    "                                                                                                 # ance to obstacle\n",
    "        \n",
    "    distN = np.array(dist_constraint).flatten() \n",
    "    \n",
    "    # constraints: vector of points representing speed constraint, angular rate constraint, and distance to obstacles\n",
    "    constraints = np.concatenate((params.vmax**2-speedN, params.wmax**2-wN, distN))\n",
    "    \n",
    "    return constraints"
   ]
  },
  {
   "cell_type": "code",
   "execution_count": 32,
   "metadata": {},
   "outputs": [],
   "source": [
    "## Function definition\n",
    "#\n",
    "# input\n",
    "#    x0: initial guess of control points created by generate_trajectory\n",
    "#    params: parameters of the problem. This will include start and end points, information on obstacles and the\n",
    "#            environment, min allowable distance to obstacles, max and min velocity, max and min angular velocity\n",
    "#\n",
    "# output\n",
    "#    xN_opt: set of control points representing the Bernstein polynomial approximation to the optimal trajectory\n",
    "#\n",
    "\n",
    "def generate_optimal_trajectory(x0, params): \n",
    "    # Use minimize function to generate an approximation to the optimal trajectory:\n",
    "    # xN_opt = minimize(@(x)cost(x),x0,@(x)nonlcon(x,params))\n",
    "\n",
    "    \n",
    "    def fn(x): return cost(x, params)\n",
    "    cons = [{'type': 'ineq',\n",
    "             'fun': lambda x: nonlcon(x, params)}]\n",
    "    bounds = Bounds(-1000, 1000)\n",
    "\n",
    "    results = minimize(fn, x0,\n",
    "                       constraints=cons,\n",
    "                       bounds=bounds,\n",
    "                       method='SLSQP',\n",
    "                       options={'maxiter': 250,\n",
    "                                'disp': True,\n",
    "                                'iprint': 2})\n",
    "    xN_opt, tf = reform(results.x, params)\n",
    "    return xN_opt, tf"
   ]
  },
  {
   "cell_type": "code",
   "execution_count": 34,
   "metadata": {},
   "outputs": [
    {
     "name": "stdout",
     "output_type": "stream",
     "text": [
      "  NIT    FC           OBJFUN            GNORM\n",
      "    1    15     1.414214E+01     0.000000E+00\n",
      "    2    31     1.759451E+01     2.495441E+00\n",
      "    3    46     3.960245E+01     4.510753E+00\n",
      "    4    61     4.748891E+01     4.712263E+00\n",
      "    5    76     4.489692E+01     4.739689E+00\n",
      "    6    91     4.046190E+01     4.466182E+00\n",
      "    7   106     2.674796E+01     4.071315E+00\n",
      "    8   121     2.664318E+01     4.200145E+00\n",
      "    9   136     3.432810E+01     4.248963E+00\n",
      "   10   152     3.504199E+01     4.240642E+00\n",
      "   11   167     3.494163E+01     4.226255E+00\n",
      "   12   182     3.293163E+01     4.203480E+00\n",
      "   13   197     3.108334E+01     4.271028E+00\n",
      "   14   212     3.061148E+01     4.271207E+00\n",
      "   15   227     2.928978E+01     4.262786E+00\n",
      "   16   242     2.401297E+01     3.823206E+00\n",
      "   17   257     2.168963E+01     3.663268E+00\n",
      "   18   272     2.060157E+01     2.883071E+00\n",
      "   19   287     2.003015E+01     2.964631E+00\n",
      "   20   303     1.990161E+01     2.828771E+00\n",
      "   21   320     1.989268E+01     2.795388E+00\n",
      "   22   335     1.981640E+01     3.397865E+00\n",
      "   23   350     1.979925E+01     2.738663E+00\n",
      "   24   366     1.979353E+01     2.737011E+00\n",
      "   25   381     1.975748E+01     3.230524E+00\n",
      "   26   396     1.974113E+01     3.555187E+00\n",
      "   27   412     1.972857E+01     3.055608E+00\n",
      "   28   427     1.971381E+01     3.432206E+00\n",
      "   29   442     1.970266E+01     3.726315E+00\n",
      "   30   457     1.967559E+01     3.776729E+00\n",
      "   31   473     1.964807E+01     3.737574E+00\n",
      "   32   489     1.960880E+01     3.619927E+00\n",
      "   33   506     1.958968E+01     3.537099E+00\n",
      "   34   522     1.954260E+01     4.078459E+00\n",
      "   35   537     1.864341E+01     3.551476E+00\n",
      "   36   552     1.830090E+01     3.414536E+00\n",
      "   37   567     1.788957E+01     2.959715E+00\n",
      "   38   582     1.771937E+01     2.928930E+00\n",
      "   39   597     1.757571E+01     2.880626E+00\n",
      "   40   612     1.740548E+01     2.777240E+00\n",
      "   41   627     1.716606E+01     2.590583E+00\n",
      "   42   642     1.695549E+01     2.538380E+00\n",
      "   43   657     1.666478E+01     2.527373E+00\n",
      "   44   672     1.651724E+01     2.436894E+00\n",
      "   45   688     1.647503E+01     2.363127E+00\n",
      "   46   704     1.643296E+01     2.233243E+00\n",
      "   47   721     1.641699E+01     2.038844E+00\n",
      "   48   738     1.641457E+01     2.010387E+00\n",
      "   49   753     1.637083E+01     1.968905E+00\n",
      "   50   769     1.636200E+01     2.865653E+00\n",
      "   51   784     1.623482E+01     2.020991E+00\n",
      "   52   799     1.612623E+01     2.046460E+00\n",
      "   53   814     1.612600E+01     2.067737E+00\n",
      "   54   830     1.611299E+01     2.108844E+00\n",
      "   55   849     1.611183E+01     2.048125E+00\n",
      "   56   868     1.611169E+01     2.834464E+00\n",
      "   57   883     1.610674E+01     2.877732E+00\n",
      "   58   898     1.607132E+01     1.881061E+00\n",
      "   59   913     1.606531E+01     1.880122E+00\n",
      "   60   928     1.605800E+01     2.112132E+00\n",
      "   61   943     1.605205E+01     1.937035E+00\n",
      "   62   958     1.605161E+01     1.962099E+00\n",
      "   63   973     1.605108E+01     2.019821E+00\n",
      "   64   988     1.605068E+01     2.052032E+00\n",
      "   65  1003     1.604996E+01     2.502335E+00\n",
      "   66  1019     1.604986E+01     2.399158E+00\n",
      "   67  1034     1.604975E+01     2.308853E+00\n",
      "   68  1049     1.604983E+01     2.163420E+00\n",
      "   69  1064     1.604931E+01     1.980325E+00\n",
      "   70  1079     1.604887E+01     2.097726E+00\n",
      "   71  1095     1.604840E+01     2.314818E+00\n",
      "   72  1112     1.604824E+01     3.217730E+00\n",
      "   73  1128     1.604822E+01     3.094317E+00\n",
      "   74  1145     1.604812E+01     2.582390E+00\n",
      "   75  1161     1.604813E+01     2.043727E+00\n",
      "   76  1186     1.604813E+01     2.043715E+00\n",
      "   77  1202     1.604813E+01     2.067548E+00\n",
      "   79  1219     1.604806E+01     3.187227E+00\n",
      "   80  1244     1.604806E+01     2.017683E+00\n",
      "   81  1264     1.604806E+01     2.105198E+00\n",
      "   82  1280     1.604775E+01     2.084716E+00\n",
      "   83  1296     1.604741E+01     2.117951E+00\n",
      "   84  1311     1.604706E+01     2.182561E+00\n",
      "   85  1326     1.604644E+01     3.024810E+00\n",
      "   86  1341     1.604657E+01     3.102583E+00\n",
      "   87  1358     1.604650E+01     2.727734E+00\n",
      "   88  1373     1.604647E+01     2.224877E+00\n",
      "   89  1389     1.604647E+01     2.206233E+00\n",
      "   90  1406     1.604646E+01     3.095549E+00\n",
      "   91  1423     1.604646E+01     2.722711E+00\n",
      "Optimization terminated successfully.    (Exit mode 0)\n",
      "            Current function value: 16.04646442650693\n",
      "            Iterations: 91\n",
      "            Function evaluations: 1424\n",
      "            Gradient evaluations: 90\n",
      "tf: 503.21102429960507 s\n"
     ]
    },
    {
     "data": {
      "image/png": "[encoded data removed]",
      "text/plain": [
       "<Figure size 432x288 with 1 Axes>"
      ]
     },
     "metadata": {
      "needs_background": "light"
     },
     "output_type": "display_data"
    }
   ],
   "source": [
    "num_obstacles = 8\n",
    "env_bounds = np.array([[-1,10],[-1,10]])\n",
    "\n",
    "params = Parameters(num_obstacles, env_bounds)\n",
    "\n",
    "x0 = np.concatenate((np.linspace(1,9,params.deg-1), np.linspace(1,9,params.deg-1), [params.tf]))\n",
    "\n",
    "\n",
    "xN_opt, tf = generate_optimal_trajectory(x0,params)\n",
    "bp = Bernstein(xN_opt,tf=tf)\n",
    "\n",
    "print(\"tf: {} s\".format(tf))\n",
    "\n",
    "plt.close('all')\n",
    "fig, ax = plt.subplots()\n",
    "\n",
    "bp.plot(ax, showCpts=False,color='r')\n",
    "pt10 = bp(5)\n",
    "plt.plot(pt10[0], pt10[1], 'x', markeredgewidth=7, zorder=10, color='orange')\n",
    "\n",
    "# for obs in params.obstacles:\n",
    "#         obsArtist = plt.Circle(obs, radius=params.dsafe, edgecolor='Black')\n",
    "#         ax.add_artist(obsArtist)\n",
    "\n",
    "for i, obs in enumerate(params.obstacles):\n",
    "        obsArtist = plt.Circle(obs, radius=params.safe_dists[i], edgecolor='Black')\n",
    "        ax.add_artist(obsArtist)\n",
    "\n",
    "ax.set_ylim([-1, 11])\n",
    "ax.set_xlim([-1, 11])\n",
    "ax.set_aspect('equal')"
   ]
  },
  {
   "cell_type": "code",
   "execution_count": null,
   "metadata": {},
   "outputs": [],
   "source": []
  },
  {
   "cell_type": "code",
   "execution_count": null,
   "metadata": {},
   "outputs": [],
   "source": []
  }
 ],
 "metadata": {
  "kernelspec": {
   "display_name": "Python 3",
   "language": "python",
   "name": "python3"
  },
  "language_info": {
   "codemirror_mode": {
    "name": "ipython",
    "version": 3
   },
   "file_extension": ".py",
   "mimetype": "text/x-python",
   "name": "python",
   "nbconvert_exporter": "python",
   "pygments_lexer": "ipython3",
   "version": "3.7.3"
  }
 },
 "nbformat": 4,
 "nbformat_minor": 2
}
