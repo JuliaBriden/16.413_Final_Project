{
 "cells": [
  {
   "cell_type": "markdown",
   "metadata": {},
   "source": [
    "# 16.413 Final Project: Convex Risk Bounded Continuous-Time Trajectory Planning for a Europa Lander\n",
    "\n",
    "Julia Briden (jbriden@mit.edu)\n",
    "Kota Kondo (kkondo@mit.edu)\n",
    "Lakshay Sharma (lakshays@mit.edu)\n",
    "Nick Rober (nrober@mit.edu)\n",
    "Youngjae Min (youngj0@mit.edu)"
   ]
  },
  {
   "cell_type": "code",
   "execution_count": 7,
   "metadata": {},
   "outputs": [],
   "source": [
    "import numpy as np\n",
    "import random\n",
    "import matplotlib.pyplot as plt\n",
    "import math\n",
    "from mpl_toolkits import mplot3d\n",
    "from sympy import *"
   ]
  },
  {
   "cell_type": "markdown",
   "metadata": {},
   "source": [
    "## 1. Problem Statement\n",
    "\n",
    "The year is 2048 and alien life has been detected under the ice of Europa! In the interest of getting to know our newly discovered neighbors, NASA has decided to dispatch a highly specialized fleet of vehicles to the Gallilean moon. The mission will consist of (i) an autonomous underwater vehicle (AUV) designed to slowly glide to Europa's sea floor while transmitting data via an optical fiber cable to a rover on the surface, (ii) a surface rover designed to ferry the underwater vehicle from a safe landing site to an appropriate insertion site (i.e. vapor plume outburst location), and (iii) an orbiter, capable of relaying signals from the rover and providing high-resolution imagery to map the surface.\n",
    "\n",
    "![alt text](environment_basic.jpg \"Europa Lander mission concept\")\n",
    "\n",
    "As part of NASA's Jet Propulsion Laboratory, our team has been tasked with creating the trajectory generation algorithm for the surface vehicle. The goal for the rover is to navigate from a safe landing site which is flat and free of obstacles to the AUV's insertion point, which has relatively thin ice and may be surrounded by uncertain hazards. We have access to global map data within the field of operation, allowing us to formulate the trajectory generation problem as an infinite horizon mixed-integer nonlinear programming problem. We will solve this optimization problem using scipy.minimize and the Bernstein polynomial library BEBOT. To provide additional autonomy capabilities and give the optimization algorithm a good chance of finding a feasible solution, we will initilize the optimizer using RRT* to form an initial guess of the optimal trajectory.\n",
    "\n",
    "### Formulation\n",
    "\n",
    "Generally, this problem can be stated as an optimal control problem in the form of\n",
    "\n",
    "***\n",
    "<font size=\"3\"><h1><center>$\\underset{x(t)\\in\\mathbb{R}^{n_x},\\;u(t)\\in\\mathbb{R}^{u_n}}{\\text{minimize}}\\quad E(x(0),\\;x(1))+\\int_{0}^{1}F(x(t),u(t))dt$ <div style=\"text-align: right\"> (1) </div><br> $\\begin{align} & \\text{subject to} \\quad \\quad \\\\  \\\\ &\\dot{x} = f(x(t),\\;u(t)),\\quad \\forall t\\in[0,1] \\\\ & e(x(0),\\;x(1)) = 0, \\\\ & h(x(t),\\;u(t)) \\leq 0,\\quad \\forall t\\in[0,1] \\end{align}$</center></h1></font>\n",
    "***\n",
    "\n",
    "However, this is a difficult problem to solve. We can simplify it by considering that our system can be modelled using the common unicycle model:\n",
    "\n",
    "***\n",
    "<font size=\"3\"><h1><center>$\\dot{x} = \\begin{bmatrix} \\dot{x}_1 \\\\ \\dot{x}_2 \\\\ \\dot{\\phi} \\end{bmatrix} = \\begin{bmatrix} V \\cos(\\phi) \\\\ V \\sin(\\phi) \\\\ \\omega \\end{bmatrix}$</center></h1></font>\n",
    "***\n",
    "\n",
    "which is differentially flat. In this case, that is helpful because it means we can determine the inputs $V$ and $\\omega$ directly from $x_1$ and $x_2$. Additionally, we can approximate $x(t)$ (the optimal trajectory) using a  Bernstein polynomial, which takes the form \n",
    "\n",
    "***\n",
    "<font size=\"3\"><h1><center>$x_N(t) = \\sum_{i=0}^N \\bar{x}_{i,N}b_{i,N}(t)$</center></h1></font>\n",
    "***\n",
    "\n",
    "where $\\bar{x}_N = [\\bar{x}_{0,N},\\; ...,\\; \\bar{x}_{N,N}] \\in \\mathbb{R}^{n_x \\times (N+1)}$, is a vector of control points for the Bernstein polynomial and \n",
    "\n",
    "***\n",
    "<font size=\"3\"><h1><center>$b_{i,N}(t) = \\begin{pmatrix}N \\\\ i\\end{pmatrix}t^i(1-t)^{N-i},\\quad \\begin{pmatrix}N \\\\ i\\end{pmatrix} = \\frac{N!}{i!(N-i)!}$</center></h1></font>\n",
    "***\n",
    "\n",
    "The use of Bernstein polynomials allows us to formulate the problem as a finite-dimensional optimization problem (choose N control points), rather than an infinite dimensional optimization problem. Additionally, Bernstein polynomials are fixed at the endpoints, (i.e. $x_N(t_0) = \\bar{x}_{0,N}$ and $x_N(t_f) = \\bar{x}_{N,N}$, allowing us to remove the equality constraint from (1). The fact that the model is differentially flat allows us to remove $u(t)$, and the convex hull property of Bernstein polynomials allows us to only evaluate the control points $\\{x_{0,N}, ..., x_{N,N}\\}$ for satisfaction of the inequality constraints. Thus, the simplified problem becomes\n",
    "\n",
    "***\n",
    "<font size=\"3\"><h1><center>$\\underset{\\bar{x}_N}{\\text{minimize}}\\quad E(\\bar{x}_{0,N},\\;\\bar{x}_{N,N})+\\int_{0}^{1}F(x_N(t))dt$ <div style=\"text-align: right\"> (2) </div><br> $\\begin{align} & \\text{subject to} \\quad & \\quad \\\\ & \\|\\dot{x}_N(t_i) - f(x_N(t_i)\\| \\leq 0, & \\forall i \\in \\{0, 1, ..., N\\} \\\\ & h(\\bar{x}_{i,N}) \\leq 0, & \\forall i \\in \\{0, 1, ..., N\\} \\end{align}$</center></h1></font>\n",
    "***\n",
    "\n",
    "Finally, to address the inequality constraints $h(\\bar{x}_{i,N})$, we list the necessary constraints on the system as\n",
    "\n",
    "- Collision avoidance constraints (addressed below)\n",
    "- Maximum and minimum speed constraints\n",
    "- Maximum and minimum angular rate constraints\n",
    "\n",
    "and plan to use total path length as the cost function to minimize the distance required by the rover to travel to the AUV insertion point.\n",
    "\n",
    "\n",
    "From a practical standpoint, the scipy function minimize() can be used to solve problem (2). However, it requires an initial guess of the optimal trajectory as a starting point from which to begin using gradient descent. This guess warrants some consideration as it can have a large influence on the output of the function: one initial guess may give a good answer, while another may give local minima or even fail to converge to a solution. One option to generate this initial guess is to linearly interpolate between the initial and final positions. However it is often beneficial to give an initial guess which satisfies the system's constraints, which may not be the case if an obstacle lies on the straightline path between the initial and final positions. Thus, we plan to use RRT* as a fast way to generate what is hopefully a good initial guess.\n",
    "\n",
    "Source: https://arxiv.org/pdf/1812.06132.pdf\n",
    "\n",
    "\n"
   ]
  },
  {
   "cell_type": "markdown",
   "metadata": {},
   "source": [
    "## 2. Risk Contours\n",
    "\n",
    "Risk contours are defined as the set of all points in uncertain environments with guaranteed bounded risk. We will use risk contours in finding optimal trajectories. \n",
    "\n",
    "For simplicity we incorporate only static risk contours into our problem, not dynamic contours, and replace probabilistic constraint with deterministic constraint in terms of x (use inner approximation of probabilisitic constraint to bound risk), which lead to rational polynomial representation."
   ]
  },
  {
   "cell_type": "markdown",
   "metadata": {},
   "source": [
    "### How to construct risk contours"
   ]
  },
  {
   "cell_type": "markdown",
   "metadata": {},
   "source": [
    "Define $\\chi \\in \\mathbb{R}^2$ as an uncertain environment where our ground robot explores and $\\chi_{obs_{i}}(\\omega_i) \\subset \\chi$, for $i = 1, ..., n_{o_{s}}$ as static uncertain obstacles, where $n_{o_{s}}$ is the number of static obstacles, $\\omega_i$ is a probablistic uncertain parameters. \n",
    "\n",
    "Then, we can represent $\\chi_{obs_{i}}(\\omega_i)$ in terms of polynomials in x $\\in \\chi$\n",
    "\n",
    "***\n",
    "$\\chi_{obs_{i}}(\\omega_i) \\equiv \\{x \\in \\chi | P_i(x, \\omega_i) \\geq 0\\}$ for i = 1, ..., $n_{o_{s}}$ (1)\n",
    "***\n",
    "\n",
    "where P_i : $\\mathbb{R}^{n_x + n_{\\omega}} \\to \\mathbb{R}$ denotes a given polynomial. Let $\\triangle \\in [0, 1]$ be a given acceptable risk level, and then, $C^{\\triangle}_{r}$, static risk contour whose risk level, with less than the given acceptable can be defined as\n",
    "\n",
    "***\n",
    "$C^{\\triangle}_{r} \\equiv \\{x \\in \\chi | Prob(x \\in \\chi_{obs}(\\omega)) \\leq \\triangle\\}$ (2)\n",
    "***\n",
    "\n",
    "By this definition, static risk contour is now defined with a deterministic constraint in terms of x. Furthermore, the static risk contour's inner approximation is given as\n",
    "\n",
    "***\n",
    "$\\hat{C}^{\\triangle}_{r} \\equiv \\{x  \\in \\chi | \\frac{\\mathbb{E}[P^2(x, \\omega)] - \\mathbb{E}[P(x, \\omega)]^2}{\\mathbb{E}[P^2(x, \\omega)]} \\leq \\triangle  or  \\mathbb{E}[P(x, \\omega)] \\leq 0 \\}$ (3)\n",
    "***\n",
    "\n",
    "Since $\\hat{C}^{\\triangle}_{r}$ is an approximation of inner space of $C^{\\triangle}_{r}$, any trajectory going through $\\hat{C}^{\\triangle}_{r}$ has a risk less or equal to the given $\\triangle$.\n",
    "\n",
    "*Convex Risk Bounded Continuous-Time Trajectory Planning in Uncertain Nonconvex Environments (https://arxiv.org/pdf/2106.05489.pdf)* gives a good expample to illustrate the use of this risk contour generation method."
   ]
  },
  {
   "cell_type": "markdown",
   "metadata": {},
   "source": [
    "### Function outline for generating random obstacles in the environment"
   ]
  },
  {
   "cell_type": "code",
   "execution_count": 131,
   "metadata": {},
   "outputs": [],
   "source": [
    "## Function definition\n",
    "#\n",
    "# input\n",
    "#\n",
    "# output\n",
    "#    g: polynomial that represents an obstacle, including probabilistic uncertain parameter, omega\n",
    "#\n",
    "\n",
    "def random_ob():\n",
    "    # randomly generate obstacles within the given environments\n",
    "    # return a list of polynomials generated according to the given shape, maximum size, and omega range\n",
    "    x1 = Symbol('x1')\n",
    "    x2 = Symbol('x2')\n",
    "    # radius of circle\n",
    "    w = Symbol('w')\n",
    "    \n",
    "    # circular obstacle\n",
    "    g = w**2-x1**2-x2**2\n",
    "    \n",
    "    return g"
   ]
  },
  {
   "cell_type": "markdown",
   "metadata": {},
   "source": [
    "### Function outline for static risk contours "
   ]
  },
  {
   "cell_type": "code",
   "execution_count": 135,
   "metadata": {},
   "outputs": [],
   "source": [
    "## Function definition\n",
    "#\n",
    "# input\n",
    "#    delta: acceptable risk level, [0,1]\n",
    "#    g: polynomial that represents an obstacle, including probabilistic uncertain parameter, omega  \n",
    "#    l: lower bound of uniform distribution for w\n",
    "#    u: upper bound of uniform distribution for w\n",
    "#\n",
    "# output\n",
    "#    C: the boundary of inner approximation of risk contour, which is denoted as a list of polynomials\n",
    "#\n",
    "\n",
    "def static_rc(g, delta, l, u):\n",
    "    # calculate C using equation (3)\n",
    "    # need to calculate expected values using the given polynomials\n",
    "    # since delta is given, we can find the boundary of C as a form of a polynomial\n",
    "    # may need another function to convert the given polynomial to another form. \n",
    "    x1 = Symbol('x1')\n",
    "    x2 = Symbol('x2')\n",
    "    w = Symbol('w')\n",
    "    \n",
    "    degree = sum(degree_list(g))\n",
    "    \n",
    "    # moments for w~Uniform[l,u]\n",
    "    m_w = [1]\n",
    "    \n",
    "    for i in range(2*degree):\n",
    "        m_w.append((1/(u-l))*((u**(i+1)-l**(i+1))/(i+1)))\n",
    "        \n",
    "    # first and second order moments\n",
    "    Mg = []\n",
    "    for i in range(1,3):\n",
    "        Md = simplify(g**i)\n",
    "        for j in range(i*degree):\n",
    "            Md = Md.subs(w**j,m_w[1+j])\n",
    "        Mg.append(Md)\n",
    "        \n",
    "    # risk contour\n",
    "    C_1 = (Mg[1]-Mg[0]**2)/Mg[1]\n",
    "    C_2 = Mg[0]\n",
    "    \n",
    "    return [C_1,C_2]"
   ]
  },
  {
   "cell_type": "code",
   "execution_count": 136,
   "metadata": {},
   "outputs": [
    {
     "data": {
      "image/png": "[encoded data removed]",
      "text/plain": [
       "<Figure size 432x288 with 1 Axes>"
      ]
     },
     "metadata": {
      "needs_background": "light"
     },
     "output_type": "display_data"
    }
   ],
   "source": [
    "# Risk Contour Example\n",
    "x_1 = np.linspace(-1,1,100)\n",
    "x_2 = np.linspace(-1,1,100)\n",
    "x1 = Symbol('x1')\n",
    "x2 = Symbol('x2')\n",
    "\n",
    "g = random_ob()\n",
    "C = static_rc(g,.5,.3,.4)\n",
    "\n",
    "for x in x_1:\n",
    "    for y in x_2:\n",
    "        C_array = [C[0].subs([(x1, x), (x2, y)]),C[1].subs([(x1, x), (x2, y)])]\n",
    "        if np.abs(C_array[1]) > 0.0495 and np.abs(C_array[1]) < .05005:\n",
    "            plt.scatter(x,y)"
   ]
  },
  {
   "cell_type": "code",
   "execution_count": 137,
   "metadata": {},
   "outputs": [
    {
     "name": "stdout",
     "output_type": "stream",
     "text": [
      "<class 'sympy.core.mul.Mul'>\n"
     ]
    }
   ],
   "source": [
    "print(type(C[0]))"
   ]
  },
  {
   "cell_type": "markdown",
   "metadata": {},
   "source": [
    "### Sample Computations"
   ]
  },
  {
   "cell_type": "code",
   "execution_count": 128,
   "metadata": {},
   "outputs": [],
   "source": [
    "def compute_simple_risk_contour(x1,x2,delta):\n",
    "    E_P = 0.1233-x1**2-x2**2\n",
    "    E_P2 = 0.0156-0.2466*x1**2-0.2466*x2**2+x1**4+2*x1**2*x2**2+x2**4\n",
    "    C = (E_P2-E_P**2)/E_P2\n",
    "    \n",
    "    if C <= delta and E_P<=0:\n",
    "        return [C,E_P]"
   ]
  },
  {
   "cell_type": "code",
   "execution_count": 129,
   "metadata": {},
   "outputs": [
    {
     "data": {
      "image/png": "[encoded data removed]",
      "text/plain": [
       "<Figure size 432x288 with 1 Axes>"
      ]
     },
     "metadata": {
      "needs_background": "light"
     },
     "output_type": "display_data"
    }
   ],
   "source": [
    "x1 = np.linspace(-1,1,100)\n",
    "x2 = np.linspace(-1,1,100)\n",
    "C = []\n",
    "\n",
    "fig = plt.figure()\n",
    "ax = plt.axes(projection='3d')\n",
    "\n",
    "for x in x1:\n",
    "    for y in x2:\n",
    "        contour_set = compute_simple_risk_contour(x,y,0.5)\n",
    "        if contour_set and np.abs(contour_set[1]) > 0.049 and np.abs(contour_set[1]) < .0505:\n",
    "\n",
    "            ax.scatter3D(x, y, contour_set[1])\n"
   ]
  },
  {
   "cell_type": "code",
   "execution_count": 127,
   "metadata": {},
   "outputs": [
    {
     "data": {
      "text/plain": [
       "[0.002790653548840521, -0.3767]"
      ]
     },
     "execution_count": 127,
     "metadata": {},
     "output_type": "execute_result"
    }
   ],
   "source": [
    "compute_simple_risk_contour(.5,.5,.5)"
   ]
  },
  {
   "cell_type": "code",
   "execution_count": 110,
   "metadata": {},
   "outputs": [],
   "source": [
    "def compute_risk_contour(delta,l,u):\n",
    "    x1 = Symbol('x1')\n",
    "    x2 = Symbol('x2')\n",
    "    w = Symbol('w')\n",
    "    \n",
    "    # circular obstacle\n",
    "    g = w**2-x1**2-x2**2\n",
    "    \n",
    "    degree = sum(degree_list(g))\n",
    "    \n",
    "    # moments for w~Uniform[l,u]\n",
    "    m_w = [1]\n",
    "    \n",
    "    for i in range(2*degree):\n",
    "        m_w.append((1/(u-l))*((u**(i+1)-l**(i+1))/(i+1)))\n",
    "        \n",
    "    # first and second order moments\n",
    "    Mg = []\n",
    "    for i in range(1,3):\n",
    "        Md = simplify(g**i)\n",
    "        for j in range(i*degree):\n",
    "            Md = Md.subs(w**j,m_w[1+j])\n",
    "        Mg.append(Md)\n",
    "        \n",
    "    C_1 = (Mg[1]-Mg[0]**2)/Mg[1]\n",
    "    C_2 = Mg[0]\n",
    "    \n",
    "    return [C_1,C_2]"
   ]
  },
  {
   "cell_type": "code",
   "execution_count": 111,
   "metadata": {},
   "outputs": [
    {
     "name": "stdout",
     "output_type": "stream",
     "text": [
      "[(-(-1.0*x1**2 - 1.0*x2**2 + 0.1225)**2 + (x1**2 + x2**2 - 0.1225)**2)/(x1**2 + x2**2 - 0.1225)**2, -1.0*x1**2 - 1.0*x2**2 + 0.1225]\n",
      "0\n"
     ]
    }
   ],
   "source": [
    "x1 = np.linspace(-1,1,100)\n",
    "x2 = np.linspace(-1,1,100)\n",
    "x1 = Symbol('x1')\n",
    "x2 = Symbol('x2')\n",
    "C = []\n",
    "\n",
    "C = compute_risk_contour(.5,.3,.4)\n",
    "print(C)\n",
    "print(C[0].subs([(x1, .5), (x2, .5)]))\n"
   ]
  },
  {
   "cell_type": "code",
   "execution_count": 113,
   "metadata": {},
   "outputs": [
    {
     "data": {
      "image/png": "[encoded data removed]",
      "text/plain": [
       "<Figure size 432x288 with 1 Axes>"
      ]
     },
     "metadata": {
      "needs_background": "light"
     },
     "output_type": "display_data"
    }
   ],
   "source": [
    "x_1 = np.linspace(-1,1,100)\n",
    "x_2 = np.linspace(-1,1,100)\n",
    "x1 = Symbol('x1')\n",
    "x2 = Symbol('x2')\n",
    "\n",
    "C = compute_risk_contour(.5,.3,.4)\n",
    "\n",
    "for x in x_1:\n",
    "    for y in x_2:\n",
    "        C_array = [C[0].subs([(x1, x), (x2, y)]),C[1].subs([(x1, x), (x2, y)])]\n",
    "        if np.abs(C_array[1]) > 0.0495 and np.abs(C_array[1]) < .05005:\n",
    "            plt.scatter(x,y)"
   ]
  },
  {
   "cell_type": "markdown",
   "metadata": {},
   "source": [
    "## 3. Continuous-Time Risk Bounded Trajectory Planning using Risk Contours\n",
    "\n",
    "\n",
    "From part 2, we have formulated conditions for a point $x$ in a trajectory to be safe with the maximum risk of $\\Delta$ to collide with uncertain static obstacles as below.\n",
    "\n",
    "***\n",
    "$\\frac{\\mathbb{E}[P^2(x, \\omega)] - \\mathbb{E}[P(x, \\omega)]^2}{\\mathbb{E}[P^2(x, \\omega)]} \\leq \\Delta  \\land  \\mathbb{E}[P(x, \\omega)] \\leq 0 \\$\n",
    "***\n",
    "\n",
    "With known momentums of $\\omega$, the conditions are polynomial in $x$, and then the feasible set for the trajectory optimization problem can be presented as\n",
    "\n",
    "***\n",
    "$\\mathcal{S}=\\{x: g_i(x) \\geq 0 \\;\\; i=1,\\dots,l\\}$\n",
    "***\n",
    "\n",
    "for some polynomials $g_i$. We are using RRT to find a trajectory in this feasible set to reach the goal state from the initial state. For RRT, we have to define two important functions STEER and ObstacleFree.\n",
    "\n",
    "### Steer\n",
    "\n",
    "Given a sampled point and the current state of the RRT tree, steer() finds the node in the RRT tree nearest to the sampled point, and generates a path from that node towards the sampled point (not necessarily ending at the sampled point) in the form of\n",
    "\n",
    "***\n",
    "$x(t) = \\sum_{i=0}^d c_i t^i \\;\\; t \\in [t_1, t_2]$\n",
    "***\n",
    "\n",
    "This path is added as an edge and the endpoint of this path is added as a new node to the RRT tree.\n",
    "\n"
   ]
  },
  {
   "cell_type": "code",
   "execution_count": null,
   "metadata": {},
   "outputs": [],
   "source": [
    "## Function definition\n",
    "#\n",
    "# input\n",
    "#    tree: current RRT tree\n",
    "#    endpoint: sampled point towards which the RRT tree needs to grow\n",
    "#    env: environment representation, including obstacles \n",
    "#\n",
    "# output\n",
    "#    extended_path: parameters for the extended path\n",
    "#\n",
    "\n",
    "def steer(tree, endpoint, env):\n",
    "    return extended_path"
   ]
  },
  {
   "cell_type": "markdown",
   "metadata": {},
   "source": [
    "### ObstacleFree\n",
    "\n",
    "To check the safety of the path defined above, one can use SOS-based continuous-time technique by checking whether each polynomial $g_i(x(t))$ can be represented with SOS polynomials as\n",
    "\n",
    "***\n",
    "$g_i(x(t)) = \\sigma_{0i}(t) + \\sigma_{1i}(t)(t-t_1) + \\sigma_{2i}(t)(t_2-t)$\n",
    "***\n",
    "\n",
    "where $\\sigma_{0i}(t), \\sigma_{1i}(t), \\sigma_{2i}(t)$ are SOS polynomials. This can be checked using Yalmip and Spotless packages, but for simplicity, we employ an apporximate collision-checking method.\n",
    "\n",
    "We sample points along the extended path, and check for each point whether it resides in $\\mathcal{S}$. By sampling densely enough, we can approximately check if the exented path is free from collision with obstacles."
   ]
  },
  {
   "cell_type": "code",
   "execution_count": null,
   "metadata": {},
   "outputs": [],
   "source": [
    "## Function definition\n",
    "#\n",
    "# input\n",
    "#    x_nearest: the point closest to x_new\n",
    "#    x_new: randomly chosen point by RRT\n",
    "#    env: environment variable used for collision checking\n",
    "#    radius: the robot radius\n",
    "#    safety_factor: extra buffering region around the robot\n",
    "#\n",
    "# output\n",
    "#    boolean: True if the temporary trajectory that steer() function generates hits obstacles, otherwise False.\n",
    "#\n",
    "\n",
    "def obstacle_free(x_nearest, x_new, env, radius, safety_factor): \n",
    "    # check if the newly generated line from x_nearest to x_new is violating the obstacle constraints.\n",
    "    # put extra buffer around the line and check collisions using the given obstacles by env\n",
    "    return boolean"
   ]
  },
  {
   "cell_type": "markdown",
   "metadata": {},
   "source": [
    "### RRT* for trajectory generation\n",
    "\n",
    "Then, using the functions defined above, we can employ RRT* to generate a trajectory with bounded risk $\\Delta$ to collide with uncertain static obstacles."
   ]
  },
  {
   "cell_type": "code",
   "execution_count": null,
   "metadata": {},
   "outputs": [],
   "source": [
    "## Function definition\n",
    "#\n",
    "# input\n",
    "#    init: initial sate of the robot\n",
    "#    goal: goal state of the robot\n",
    "#    env: environment representation, including obstacles\n",
    "#    radius: the robot radius\n",
    "#    safety_factor: extra buffering region around the robot\n",
    "#\n",
    "# output\n",
    "#    trajectory: list of successvie paths represented with parameters\n",
    "#\n",
    "\n",
    "def generate_trajectory(init, goal, env, radius, safety_factor):\n",
    "    return trajectory"
   ]
  },
  {
   "cell_type": "markdown",
   "metadata": {},
   "source": [
    "## Functions for Optimization\n",
    "\n",
    "As mentioned previously, we will be using the scipy library function *minimize* to solve the problem given by Eq. 2 in Section 1. The use of this function requires the use of two support functions, namely a cost function *cost(xN)* which determines the cost of a given trajectory, and *nonlcon(xN, params)* which checks that the trajectory satisfies the constraints of the problem. The function stubs for these two functions, as well as the main optimization function are summarized below:"
   ]
  },
  {
   "cell_type": "code",
   "execution_count": null,
   "metadata": {},
   "outputs": [],
   "source": [
    "## Function definition\n",
    "#\n",
    "# input\n",
    "#    xN: set of control points being optimized\n",
    "#\n",
    "# output\n",
    "#    cost: the cost value of the control points given by the input\n",
    "#\n",
    "\n",
    "def cost(xN): \n",
    "    # Determine the cost of the given control points. We plan to use arc length, but may include terms such as\n",
    "    # the time to execute the trajectory or proximity to uncertain obstacles\n",
    "    return cost"
   ]
  },
  {
   "cell_type": "code",
   "execution_count": null,
   "metadata": {},
   "outputs": [],
   "source": [
    "## Function definition\n",
    "#\n",
    "# input\n",
    "#    xN: set of control points being optimized\n",
    "#    params: parameters of the problem. This will include start and end points, information on obstacles and the\n",
    "#            environment, min allowable distance to obstacles, max and min velocity, max and min angular velocity\n",
    "#\n",
    "# output\n",
    "#    constraints: a vector of the constrained variables associated with the problem. Must be >=0 to be satisfied\n",
    "#\n",
    "\n",
    "def nonlcon(xN, params): \n",
    "    # derive velocity, angular velocity, and distance to obstacles based on xN\n",
    "    # constraints = [params.max_vel-vel, vel-params.min_vel, params.max_ang_vel-ang_vel, ang_vel-params.min_ang_vel,\n",
    "    #                dist-min_dist]\n",
    "    return constraints"
   ]
  },
  {
   "cell_type": "code",
   "execution_count": null,
   "metadata": {},
   "outputs": [],
   "source": [
    "## Function definition\n",
    "#\n",
    "# input\n",
    "#    x0: initial guess of control points created by generate_trajectory\n",
    "#    params: parameters of the problem. This will include start and end points, information on obstacles and the\n",
    "#            environment, min allowable distance to obstacles, max and min velocity, max and min angular velocity\n",
    "#\n",
    "# output\n",
    "#    xN_opt: set of control points representing the Bernstein polynomial approximation to the optimal trajectory\n",
    "#\n",
    "\n",
    "def generate_optimal_trajectory(x0, params): \n",
    "    # Use minimize function to generate an approximation to the optimal trajectory:\n",
    "    # xN_opt = minimize(@(x)cost(x),x0,@(x)nonlcon(x,params))\n",
    "    return xN_opt"
   ]
  }
 ],
 "metadata": {
  "kernelspec": {
   "display_name": "Python 3",
   "language": "python",
   "name": "python3"
  },
  "language_info": {
   "codemirror_mode": {
    "name": "ipython",
    "version": 3
   },
   "file_extension": ".py",
   "mimetype": "text/x-python",
   "name": "python",
   "nbconvert_exporter": "python",
   "pygments_lexer": "ipython3",
   "version": "3.7.7"
  }
 },
 "nbformat": 4,
 "nbformat_minor": 2
}
