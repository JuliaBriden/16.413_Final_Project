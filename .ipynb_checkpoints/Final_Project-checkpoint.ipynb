{
 "cells": [
  {
   "cell_type": "markdown",
   "metadata": {},
   "source": [
    "# 16.413 Final Project: Convex Risk Bounded Continuous-Time Trajectory Planning for a Europa Lander"
   ]
  },
  {
   "cell_type": "markdown",
   "metadata": {},
   "source": [
    "## 1. Problem Formulation\n",
    "\n",
    "Determine obstacles (dynamic or static, convex or nonconvex), start and goal points, probabilistic optimization problem formulation, constraints, planning time horizon\n",
    "\n",
    "https://trs.jpl.nasa.gov/bitstream/handle/2014/47541/CL%2317-0518.pdf?sequence=1\n",
    "\n",
    "Precision Landing Maneuver:\n",
    "Upon receiving an initial surface-relative position and velocity estimate from the ILS, guidance\n",
    "will perform the Precision Landing Maneuver (PLM). The objective of this maneuver is to steer\n",
    "the PDV so that, at the end of the maneuver, the PDV is vertically-oriented directly above the\n",
    "landing site at an altitude of 1000 m with zero horizontal velocity and vertical velocity of -30 m/s.\n",
    "When the PLM is complete, the PDV will descend to an altitude of 500 m to begin Hazard\n",
    "Detection and Avoidance.\n",
    "\n",
    "Hazard Detection and Avoidance:\n",
    "When the PDV is at an altitude of 500 m and directly above the targeted landing location, it uses\n",
    "the 3D-imaging lidar to scan the landing site, construct a safe landing map, and select a landing \n",
    "Pre-decisional: for information and discussion only 13\n",
    "location within that map. This activity must complete in three seconds, at which time the PDV will\n",
    "be approximately 400 m above the targeted landing location.\n",
    "Once the Hazard Detection activity has finished, guidance uses the new, safe landing location\n",
    "to construct a guidance profile and steer the vehicle to a point above the targeted safe landing spot.\n",
    "The Hazard Avoidance Maneuver begins at an altitude of 250 m and completes at an altitude of\n",
    "30 m with a vertical velocity of -0.5 m/s. The safe landing map, using the data from the 3D-imaging\n",
    "lidar, will be 100 m  100 m and the vehicle has the capability to land anywhere within that map.\n",
    "\n",
    "![alt text](europalander.png \"Europa Lander mission concept\")"
   ]
  },
  {
   "cell_type": "code",
   "execution_count": null,
   "metadata": {},
   "outputs": [],
   "source": []
  },
  {
   "cell_type": "markdown",
   "metadata": {},
   "source": [
    "## 2. Risk Contours\n",
    "\n",
    "fast approach / analytical method for real-time computation: https://arxiv.org/pdf/2106.05489.pdf\n",
    "\n",
    "A. Static Risk Contours: replace probabilistic constraint with deterministic constraint in terms of x (use inner approximation of probabilisitic constraint to bound risk) -> rational polynomial representation\n",
    "\n",
    "B. Dynamic Risk Contours: replace probabilistic constraint with deterministic constraints and construct inner approximation of dynamic change in delta-risk contour\n",
    "\n",
    "Use risk contours to construct the trajectories."
   ]
  },
  {
   "cell_type": "code",
   "execution_count": null,
   "metadata": {},
   "outputs": [],
   "source": []
  },
  {
   "cell_type": "markdown",
   "metadata": {},
   "source": [
    "## 3. Continuous-Time Risk Bounded Trajectory Planning using Risk Contours\n",
    "\n",
    "https://arxiv.org/pdf/2106.05489.pdf\n",
    "\n",
    "1. Transform the probabilistic optimization problem into a deterministic polynomial optimization problem -> nonconvex and nonlinear. Must ensure all deterministic constraints are satisfied over the entire planning time horizon.\n",
    "\n",
    "a. Replace stochastic constraints with deterministic constraints\n",
    "\n",
    "b. Substitute polynomial trajectory in optimization problem -> deterministic optimization with constraints in terms of the coefficients of the polynomial trajectory x(t)\n",
    "\n",
    "2. Convex methods based on SOS techniques to solve the nonconvex time-varying deterministic planning optimization problem (no time discretization required for guarentees)\n",
    "\n",
    "RRT-SOS: sampling-based motion planning to construct the risk bounded trajectory of the deterministic polynomial optimization. Use an SOS-based continuous-time technique to verify the constraints of the optimization -> use SOS polynomials for x(t) (complexity is independent of the size of planning time horizon and length of polynomial trajectory. Use RRT* algorithm and include additional constraint formulations (line of sight, glide slope, spacecraft tilt angle, angle of attack, rate constraints, state-triggered constraints, time-triggered constraints, control constraints) to extend research paper's work. This algorithm is slower but always returns a feasible trajectory.\n",
    "\n",
    "a. Use RRT*, with smart initialization to improve runtime, (extension of paper's naive RRT formulation) trajectory to connect the given sample point to the closest vertex in the tree, if the trajectory satisfies the SOS condition (inside risk contours).\n",
    "\n",
    "b. If constraints are satisfied, connect the sample point to the goal point (iterate to get a feasible trajectory between start and goal states).\n",
    "\n",
    "c. Improve feasible trajectory / tree\n",
    "\n",
    "   i. construct a graph (eg PRM) whose nodes are the vertex of the tree and edges are all trajecoties between nodes that satisfy the SOS condition\n",
    "    \n",
    "   ii. perform a shortest path algorithm (eg Dijkstra) to obtain a path from start to goal point"
   ]
  },
  {
   "cell_type": "code",
   "execution_count": null,
   "metadata": {},
   "outputs": [],
   "source": []
  }
 ],
 "metadata": {
  "kernelspec": {
   "display_name": "Python 3",
   "language": "python",
   "name": "python3"
  },
  "language_info": {
   "codemirror_mode": {
    "name": "ipython",
    "version": 3
   },
   "file_extension": ".py",
   "mimetype": "text/x-python",
   "name": "python",
   "nbconvert_exporter": "python",
   "pygments_lexer": "ipython3",
   "version": "3.7.7"
  }
 },
 "nbformat": 4,
 "nbformat_minor": 2
}
